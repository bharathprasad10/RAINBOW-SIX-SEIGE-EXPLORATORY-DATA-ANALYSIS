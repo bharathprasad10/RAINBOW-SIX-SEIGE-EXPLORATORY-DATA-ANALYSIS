{
 "cells": [
  {
   "cell_type": "code",
   "execution_count": 1,
   "id": "9b4ecd35",
   "metadata": {},
   "outputs": [],
   "source": [
    "#Importing necessary libraries\n",
    "import pandas as pd\n",
    "import numpy as np\n",
    "import matplotlib.pyplot as plt\n",
    "import seaborn as sns\n",
    "import plotly.express as px"
   ]
  },
  {
   "cell_type": "code",
   "execution_count": 2,
   "id": "bbc658c7",
   "metadata": {},
   "outputs": [],
   "source": [
    "ls = [*range(1,31,1)]"
   ]
  },
  {
   "cell_type": "code",
   "execution_count": 3,
   "id": "17e6ab36",
   "metadata": {},
   "outputs": [],
   "source": [
    "df = pd.read_csv(\"C:\\\\Appuzzz\\\\University\\\\Sem 2\\\\Esports\\\\R6\\\\datadump\\\\datadump_0.csv\",usecols=ls, sep = ';')"
   ]
  },
  {
   "cell_type": "code",
   "execution_count": 4,
   "id": "dce2ec84",
   "metadata": {},
   "outputs": [
    {
     "data": {
      "text/html": [
       "<div>\n",
       "<style scoped>\n",
       "    .dataframe tbody tr th:only-of-type {\n",
       "        vertical-align: middle;\n",
       "    }\n",
       "\n",
       "    .dataframe tbody tr th {\n",
       "        vertical-align: top;\n",
       "    }\n",
       "\n",
       "    .dataframe thead th {\n",
       "        text-align: right;\n",
       "    }\n",
       "</style>\n",
       "<table border=\"1\" class=\"dataframe\">\n",
       "  <thead>\n",
       "    <tr style=\"text-align: right;\">\n",
       "      <th></th>\n",
       "      <th>platform</th>\n",
       "      <th>gamemode</th>\n",
       "      <th>mapname</th>\n",
       "      <th>matchid</th>\n",
       "      <th>roundnumber</th>\n",
       "      <th>objectivelocation</th>\n",
       "      <th>winrole</th>\n",
       "      <th>endroundreason</th>\n",
       "      <th>roundduration</th>\n",
       "      <th>clearancelevel</th>\n",
       "      <th>...</th>\n",
       "      <th>primarygrip</th>\n",
       "      <th>primaryunderbarrel</th>\n",
       "      <th>primarybarrel</th>\n",
       "      <th>secondaryweapon</th>\n",
       "      <th>secondaryweapontype</th>\n",
       "      <th>secondarysight</th>\n",
       "      <th>secondarygrip</th>\n",
       "      <th>secondaryunderbarrel</th>\n",
       "      <th>secondarybarrel</th>\n",
       "      <th>secondarygadget</th>\n",
       "    </tr>\n",
       "  </thead>\n",
       "  <tbody>\n",
       "    <tr>\n",
       "      <th>0</th>\n",
       "      <td>PC</td>\n",
       "      <td>PvP � HOSTAGE</td>\n",
       "      <td>CLUB HOUSE</td>\n",
       "      <td>1522380841</td>\n",
       "      <td>1</td>\n",
       "      <td>STRIP CLUB</td>\n",
       "      <td>Defender</td>\n",
       "      <td>AttackersKilledHostage</td>\n",
       "      <td>124</td>\n",
       "      <td>64</td>\n",
       "      <td>...</td>\n",
       "      <td>Vertical</td>\n",
       "      <td>None</td>\n",
       "      <td>Compensator</td>\n",
       "      <td>5.7 USG</td>\n",
       "      <td>Pistols</td>\n",
       "      <td>None</td>\n",
       "      <td>None</td>\n",
       "      <td>None</td>\n",
       "      <td>None</td>\n",
       "      <td>IMPACT GRENADE</td>\n",
       "    </tr>\n",
       "    <tr>\n",
       "      <th>1</th>\n",
       "      <td>PC</td>\n",
       "      <td>PvP � HOSTAGE</td>\n",
       "      <td>CLUB HOUSE</td>\n",
       "      <td>1522380841</td>\n",
       "      <td>4</td>\n",
       "      <td>CHURCH</td>\n",
       "      <td>Defender</td>\n",
       "      <td>AttackersEliminated</td>\n",
       "      <td>217</td>\n",
       "      <td>81</td>\n",
       "      <td>...</td>\n",
       "      <td>Vertical</td>\n",
       "      <td>Laser</td>\n",
       "      <td>Suppressor</td>\n",
       "      <td>P12</td>\n",
       "      <td>Pistols</td>\n",
       "      <td>None</td>\n",
       "      <td>None</td>\n",
       "      <td>Laser</td>\n",
       "      <td>Suppressor</td>\n",
       "      <td>DEPLOYABLE SHIELD</td>\n",
       "    </tr>\n",
       "    <tr>\n",
       "      <th>2</th>\n",
       "      <td>PC</td>\n",
       "      <td>PvP � HOSTAGE</td>\n",
       "      <td>CLUB HOUSE</td>\n",
       "      <td>1522380841</td>\n",
       "      <td>3</td>\n",
       "      <td>CHURCH</td>\n",
       "      <td>Defender</td>\n",
       "      <td>AttackersEliminated</td>\n",
       "      <td>160</td>\n",
       "      <td>150</td>\n",
       "      <td>...</td>\n",
       "      <td>None</td>\n",
       "      <td>None</td>\n",
       "      <td>None</td>\n",
       "      <td>MK1 9mm</td>\n",
       "      <td>Pistols</td>\n",
       "      <td>None</td>\n",
       "      <td>None</td>\n",
       "      <td>None</td>\n",
       "      <td>None</td>\n",
       "      <td>DEPLOYABLE SHIELD</td>\n",
       "    </tr>\n",
       "    <tr>\n",
       "      <th>3</th>\n",
       "      <td>PC</td>\n",
       "      <td>PvP � HOSTAGE</td>\n",
       "      <td>CLUB HOUSE</td>\n",
       "      <td>1522380841</td>\n",
       "      <td>4</td>\n",
       "      <td>CHURCH</td>\n",
       "      <td>Defender</td>\n",
       "      <td>AttackersEliminated</td>\n",
       "      <td>217</td>\n",
       "      <td>94</td>\n",
       "      <td>...</td>\n",
       "      <td>None</td>\n",
       "      <td>None</td>\n",
       "      <td>MuzzleBrake</td>\n",
       "      <td>PRB92</td>\n",
       "      <td>Pistols</td>\n",
       "      <td>None</td>\n",
       "      <td>None</td>\n",
       "      <td>None</td>\n",
       "      <td>None</td>\n",
       "      <td>IMPACT GRENADE</td>\n",
       "    </tr>\n",
       "    <tr>\n",
       "      <th>4</th>\n",
       "      <td>PC</td>\n",
       "      <td>PvP � HOSTAGE</td>\n",
       "      <td>CLUB HOUSE</td>\n",
       "      <td>1522380841</td>\n",
       "      <td>6</td>\n",
       "      <td>BEDROOM</td>\n",
       "      <td>Attacker</td>\n",
       "      <td>DefendersEliminated</td>\n",
       "      <td>143</td>\n",
       "      <td>81</td>\n",
       "      <td>...</td>\n",
       "      <td>Vertical</td>\n",
       "      <td>Laser</td>\n",
       "      <td>Suppressor</td>\n",
       "      <td>P12</td>\n",
       "      <td>Pistols</td>\n",
       "      <td>None</td>\n",
       "      <td>None</td>\n",
       "      <td>Laser</td>\n",
       "      <td>Suppressor</td>\n",
       "      <td>DEPLOYABLE SHIELD</td>\n",
       "    </tr>\n",
       "  </tbody>\n",
       "</table>\n",
       "<p>5 rows × 30 columns</p>\n",
       "</div>"
      ],
      "text/plain": [
       "  platform       gamemode     mapname     matchid  roundnumber  \\\n",
       "0       PC  PvP � HOSTAGE  CLUB HOUSE  1522380841            1   \n",
       "1       PC  PvP � HOSTAGE  CLUB HOUSE  1522380841            4   \n",
       "2       PC  PvP � HOSTAGE  CLUB HOUSE  1522380841            3   \n",
       "3       PC  PvP � HOSTAGE  CLUB HOUSE  1522380841            4   \n",
       "4       PC  PvP � HOSTAGE  CLUB HOUSE  1522380841            6   \n",
       "\n",
       "  objectivelocation   winrole          endroundreason  roundduration  \\\n",
       "0        STRIP CLUB  Defender  AttackersKilledHostage            124   \n",
       "1            CHURCH  Defender     AttackersEliminated            217   \n",
       "2            CHURCH  Defender     AttackersEliminated            160   \n",
       "3            CHURCH  Defender     AttackersEliminated            217   \n",
       "4           BEDROOM  Attacker     DefendersEliminated            143   \n",
       "\n",
       "   clearancelevel  ... primarygrip primaryunderbarrel  primarybarrel  \\\n",
       "0              64  ...    Vertical               None    Compensator   \n",
       "1              81  ...    Vertical              Laser     Suppressor   \n",
       "2             150  ...        None               None           None   \n",
       "3              94  ...        None               None    MuzzleBrake   \n",
       "4              81  ...    Vertical              Laser     Suppressor   \n",
       "\n",
       "   secondaryweapon secondaryweapontype  secondarysight  secondarygrip  \\\n",
       "0          5.7 USG             Pistols            None           None   \n",
       "1              P12             Pistols            None           None   \n",
       "2          MK1 9mm             Pistols            None           None   \n",
       "3            PRB92             Pistols            None           None   \n",
       "4              P12             Pistols            None           None   \n",
       "\n",
       "  secondaryunderbarrel secondarybarrel    secondarygadget  \n",
       "0                 None            None     IMPACT GRENADE  \n",
       "1                Laser      Suppressor  DEPLOYABLE SHIELD  \n",
       "2                 None            None  DEPLOYABLE SHIELD  \n",
       "3                 None            None     IMPACT GRENADE  \n",
       "4                Laser      Suppressor  DEPLOYABLE SHIELD  \n",
       "\n",
       "[5 rows x 30 columns]"
      ]
     },
     "execution_count": 4,
     "metadata": {},
     "output_type": "execute_result"
    }
   ],
   "source": [
    "df.head()"
   ]
  },
  {
   "cell_type": "markdown",
   "id": "ed5ddfa1",
   "metadata": {},
   "source": [
    "### Cleaning the data"
   ]
  },
  {
   "cell_type": "code",
   "execution_count": 5,
   "id": "e1d537c8",
   "metadata": {},
   "outputs": [
    {
     "data": {
      "text/html": [
       "<div>\n",
       "<style scoped>\n",
       "    .dataframe tbody tr th:only-of-type {\n",
       "        vertical-align: middle;\n",
       "    }\n",
       "\n",
       "    .dataframe tbody tr th {\n",
       "        vertical-align: top;\n",
       "    }\n",
       "\n",
       "    .dataframe thead th {\n",
       "        text-align: right;\n",
       "    }\n",
       "</style>\n",
       "<table border=\"1\" class=\"dataframe\">\n",
       "  <thead>\n",
       "    <tr style=\"text-align: right;\">\n",
       "      <th></th>\n",
       "      <th>platform</th>\n",
       "      <th>gamemode</th>\n",
       "      <th>mapname</th>\n",
       "      <th>matchid</th>\n",
       "      <th>roundnumber</th>\n",
       "      <th>objectivelocation</th>\n",
       "      <th>winrole</th>\n",
       "      <th>endroundreason</th>\n",
       "      <th>roundduration</th>\n",
       "      <th>clearancelevel</th>\n",
       "      <th>...</th>\n",
       "      <th>primarygrip</th>\n",
       "      <th>primaryunderbarrel</th>\n",
       "      <th>primarybarrel</th>\n",
       "      <th>secondaryweapon</th>\n",
       "      <th>secondaryweapontype</th>\n",
       "      <th>secondarysight</th>\n",
       "      <th>secondarygrip</th>\n",
       "      <th>secondaryunderbarrel</th>\n",
       "      <th>secondarybarrel</th>\n",
       "      <th>secondarygadget</th>\n",
       "    </tr>\n",
       "  </thead>\n",
       "  <tbody>\n",
       "    <tr>\n",
       "      <th>0</th>\n",
       "      <td>PC</td>\n",
       "      <td>HOSTAGE</td>\n",
       "      <td>CLUB HOUSE</td>\n",
       "      <td>1522380841</td>\n",
       "      <td>1</td>\n",
       "      <td>STRIP CLUB</td>\n",
       "      <td>Defender</td>\n",
       "      <td>AttackersKilledHostage</td>\n",
       "      <td>124</td>\n",
       "      <td>64</td>\n",
       "      <td>...</td>\n",
       "      <td>Vertical</td>\n",
       "      <td>None</td>\n",
       "      <td>Compensator</td>\n",
       "      <td>5.7 USG</td>\n",
       "      <td>Pistols</td>\n",
       "      <td>None</td>\n",
       "      <td>None</td>\n",
       "      <td>None</td>\n",
       "      <td>None</td>\n",
       "      <td>IMPACT GRENADE</td>\n",
       "    </tr>\n",
       "    <tr>\n",
       "      <th>1</th>\n",
       "      <td>PC</td>\n",
       "      <td>HOSTAGE</td>\n",
       "      <td>CLUB HOUSE</td>\n",
       "      <td>1522380841</td>\n",
       "      <td>4</td>\n",
       "      <td>CHURCH</td>\n",
       "      <td>Defender</td>\n",
       "      <td>AttackersEliminated</td>\n",
       "      <td>217</td>\n",
       "      <td>81</td>\n",
       "      <td>...</td>\n",
       "      <td>Vertical</td>\n",
       "      <td>Laser</td>\n",
       "      <td>Suppressor</td>\n",
       "      <td>P12</td>\n",
       "      <td>Pistols</td>\n",
       "      <td>None</td>\n",
       "      <td>None</td>\n",
       "      <td>Laser</td>\n",
       "      <td>Suppressor</td>\n",
       "      <td>DEPLOYABLE SHIELD</td>\n",
       "    </tr>\n",
       "    <tr>\n",
       "      <th>2</th>\n",
       "      <td>PC</td>\n",
       "      <td>HOSTAGE</td>\n",
       "      <td>CLUB HOUSE</td>\n",
       "      <td>1522380841</td>\n",
       "      <td>3</td>\n",
       "      <td>CHURCH</td>\n",
       "      <td>Defender</td>\n",
       "      <td>AttackersEliminated</td>\n",
       "      <td>160</td>\n",
       "      <td>150</td>\n",
       "      <td>...</td>\n",
       "      <td>None</td>\n",
       "      <td>None</td>\n",
       "      <td>None</td>\n",
       "      <td>MK1 9mm</td>\n",
       "      <td>Pistols</td>\n",
       "      <td>None</td>\n",
       "      <td>None</td>\n",
       "      <td>None</td>\n",
       "      <td>None</td>\n",
       "      <td>DEPLOYABLE SHIELD</td>\n",
       "    </tr>\n",
       "    <tr>\n",
       "      <th>3</th>\n",
       "      <td>PC</td>\n",
       "      <td>HOSTAGE</td>\n",
       "      <td>CLUB HOUSE</td>\n",
       "      <td>1522380841</td>\n",
       "      <td>4</td>\n",
       "      <td>CHURCH</td>\n",
       "      <td>Defender</td>\n",
       "      <td>AttackersEliminated</td>\n",
       "      <td>217</td>\n",
       "      <td>94</td>\n",
       "      <td>...</td>\n",
       "      <td>None</td>\n",
       "      <td>None</td>\n",
       "      <td>MuzzleBrake</td>\n",
       "      <td>PRB92</td>\n",
       "      <td>Pistols</td>\n",
       "      <td>None</td>\n",
       "      <td>None</td>\n",
       "      <td>None</td>\n",
       "      <td>None</td>\n",
       "      <td>IMPACT GRENADE</td>\n",
       "    </tr>\n",
       "    <tr>\n",
       "      <th>4</th>\n",
       "      <td>PC</td>\n",
       "      <td>HOSTAGE</td>\n",
       "      <td>CLUB HOUSE</td>\n",
       "      <td>1522380841</td>\n",
       "      <td>6</td>\n",
       "      <td>BEDROOM</td>\n",
       "      <td>Attacker</td>\n",
       "      <td>DefendersEliminated</td>\n",
       "      <td>143</td>\n",
       "      <td>81</td>\n",
       "      <td>...</td>\n",
       "      <td>Vertical</td>\n",
       "      <td>Laser</td>\n",
       "      <td>Suppressor</td>\n",
       "      <td>P12</td>\n",
       "      <td>Pistols</td>\n",
       "      <td>None</td>\n",
       "      <td>None</td>\n",
       "      <td>Laser</td>\n",
       "      <td>Suppressor</td>\n",
       "      <td>DEPLOYABLE SHIELD</td>\n",
       "    </tr>\n",
       "  </tbody>\n",
       "</table>\n",
       "<p>5 rows × 30 columns</p>\n",
       "</div>"
      ],
      "text/plain": [
       "  platform gamemode     mapname     matchid  roundnumber objectivelocation  \\\n",
       "0       PC  HOSTAGE  CLUB HOUSE  1522380841            1        STRIP CLUB   \n",
       "1       PC  HOSTAGE  CLUB HOUSE  1522380841            4            CHURCH   \n",
       "2       PC  HOSTAGE  CLUB HOUSE  1522380841            3            CHURCH   \n",
       "3       PC  HOSTAGE  CLUB HOUSE  1522380841            4            CHURCH   \n",
       "4       PC  HOSTAGE  CLUB HOUSE  1522380841            6           BEDROOM   \n",
       "\n",
       "    winrole          endroundreason  roundduration  clearancelevel  ...  \\\n",
       "0  Defender  AttackersKilledHostage            124              64  ...   \n",
       "1  Defender     AttackersEliminated            217              81  ...   \n",
       "2  Defender     AttackersEliminated            160             150  ...   \n",
       "3  Defender     AttackersEliminated            217              94  ...   \n",
       "4  Attacker     DefendersEliminated            143              81  ...   \n",
       "\n",
       "  primarygrip primaryunderbarrel  primarybarrel  secondaryweapon  \\\n",
       "0    Vertical               None    Compensator          5.7 USG   \n",
       "1    Vertical              Laser     Suppressor              P12   \n",
       "2        None               None           None          MK1 9mm   \n",
       "3        None               None    MuzzleBrake            PRB92   \n",
       "4    Vertical              Laser     Suppressor              P12   \n",
       "\n",
       "  secondaryweapontype  secondarysight  secondarygrip secondaryunderbarrel  \\\n",
       "0             Pistols            None           None                 None   \n",
       "1             Pistols            None           None                Laser   \n",
       "2             Pistols            None           None                 None   \n",
       "3             Pistols            None           None                 None   \n",
       "4             Pistols            None           None                Laser   \n",
       "\n",
       "  secondarybarrel    secondarygadget  \n",
       "0            None     IMPACT GRENADE  \n",
       "1      Suppressor  DEPLOYABLE SHIELD  \n",
       "2            None  DEPLOYABLE SHIELD  \n",
       "3            None     IMPACT GRENADE  \n",
       "4      Suppressor  DEPLOYABLE SHIELD  \n",
       "\n",
       "[5 rows x 30 columns]"
      ]
     },
     "execution_count": 5,
     "metadata": {},
     "output_type": "execute_result"
    }
   ],
   "source": [
    "df.loc[df['gamemode'].str.contains('HOSTAGE'), 'gamemode'] = 'HOSTAGE'\n",
    "df.loc[df['gamemode'].str.contains('SECURE AREA'), 'gamemode'] = 'SECURE AREA'\n",
    "df.loc[df['gamemode'].str.contains('BOMB'), 'gamemode'] = 'BOMB'\n",
    "df.head()"
   ]
  },
  {
   "cell_type": "code",
   "execution_count": 7,
   "id": "a27b5213",
   "metadata": {},
   "outputs": [
    {
     "data": {
      "text/plain": [
       "array(['AttackersEliminated', 'DefendersEliminated', 'BombExploded',\n",
       "       'DefuserDeactivated', 'BombDeactivated_OneBomb', 'NoEnemies',\n",
       "       'AllTeamsDead', 'AttackersSurrendered', 'DefendersSurrendered'],\n",
       "      dtype=object)"
      ]
     },
     "execution_count": 7,
     "metadata": {},
     "output_type": "execute_result"
    }
   ],
   "source": [
    "df[df['gamemode'] == 'BOMB'].endroundreason.unique()"
   ]
  },
  {
   "cell_type": "code",
   "execution_count": 22,
   "id": "1f585f81",
   "metadata": {},
   "outputs": [
    {
     "data": {
      "text/plain": [
       "array(['AttackersKilledHostage', 'AttackersEliminated',\n",
       "       'DefendersEliminated', 'TimeExpired', 'HostageExtracted',\n",
       "       'AttackersSurrendered', 'DefendersKilledHostage', 'AllTeamsDead',\n",
       "       'NoEnemies', 'DefendersSurrendered'], dtype=object)"
      ]
     },
     "execution_count": 22,
     "metadata": {},
     "output_type": "execute_result"
    }
   ],
   "source": [
    "df[df['gamemode'] == 'HOSTAGE'].endroundreason.unique()"
   ]
  },
  {
   "cell_type": "code",
   "execution_count": 23,
   "id": "62cc5709",
   "metadata": {},
   "outputs": [
    {
     "data": {
      "text/plain": [
       "array(['DefendersEliminated', 'AttackersEliminated', 'ObjectiveProtected',\n",
       "       'ObjectiveCaptured', 'NoEnemies', 'DefendersSurrendered',\n",
       "       'AttackersSurrendered', 'AllTeamsDead'], dtype=object)"
      ]
     },
     "execution_count": 23,
     "metadata": {},
     "output_type": "execute_result"
    }
   ],
   "source": [
    "df[df['gamemode'] == 'SECURE AREA'].endroundreason.unique()"
   ]
  },
  {
   "cell_type": "code",
   "execution_count": 7,
   "id": "c86e74b0",
   "metadata": {},
   "outputs": [],
   "source": [
    "df1 = df"
   ]
  },
  {
   "cell_type": "code",
   "execution_count": 8,
   "id": "feacb4a8",
   "metadata": {},
   "outputs": [],
   "source": [
    "# Deleting unnecessary columns\n",
    "cols = [0,3,4,8,9,10,14,17,18,19,20,21,22,23,24,25,26,27,28,29]\n",
    "df1.drop(df1.columns[cols],axis=1,inplace=True)"
   ]
  },
  {
   "cell_type": "code",
   "execution_count": 9,
   "id": "1258f47e",
   "metadata": {},
   "outputs": [
    {
     "data": {
      "text/html": [
       "<div>\n",
       "<style scoped>\n",
       "    .dataframe tbody tr th:only-of-type {\n",
       "        vertical-align: middle;\n",
       "    }\n",
       "\n",
       "    .dataframe tbody tr th {\n",
       "        vertical-align: top;\n",
       "    }\n",
       "\n",
       "    .dataframe thead th {\n",
       "        text-align: right;\n",
       "    }\n",
       "</style>\n",
       "<table border=\"1\" class=\"dataframe\">\n",
       "  <thead>\n",
       "    <tr style=\"text-align: right;\">\n",
       "      <th></th>\n",
       "      <th>gamemode</th>\n",
       "      <th>mapname</th>\n",
       "      <th>objectivelocation</th>\n",
       "      <th>winrole</th>\n",
       "      <th>endroundreason</th>\n",
       "      <th>role</th>\n",
       "      <th>team</th>\n",
       "      <th>haswon</th>\n",
       "      <th>nbkills</th>\n",
       "      <th>isdead</th>\n",
       "    </tr>\n",
       "  </thead>\n",
       "  <tbody>\n",
       "    <tr>\n",
       "      <th>0</th>\n",
       "      <td>HOSTAGE</td>\n",
       "      <td>CLUB HOUSE</td>\n",
       "      <td>STRIP CLUB</td>\n",
       "      <td>Defender</td>\n",
       "      <td>AttackersKilledHostage</td>\n",
       "      <td>Defender</td>\n",
       "      <td>1</td>\n",
       "      <td>1</td>\n",
       "      <td>0</td>\n",
       "      <td>0</td>\n",
       "    </tr>\n",
       "    <tr>\n",
       "      <th>1</th>\n",
       "      <td>HOSTAGE</td>\n",
       "      <td>CLUB HOUSE</td>\n",
       "      <td>CHURCH</td>\n",
       "      <td>Defender</td>\n",
       "      <td>AttackersEliminated</td>\n",
       "      <td>Defender</td>\n",
       "      <td>0</td>\n",
       "      <td>1</td>\n",
       "      <td>0</td>\n",
       "      <td>1</td>\n",
       "    </tr>\n",
       "    <tr>\n",
       "      <th>2</th>\n",
       "      <td>HOSTAGE</td>\n",
       "      <td>CLUB HOUSE</td>\n",
       "      <td>CHURCH</td>\n",
       "      <td>Defender</td>\n",
       "      <td>AttackersEliminated</td>\n",
       "      <td>Defender</td>\n",
       "      <td>1</td>\n",
       "      <td>1</td>\n",
       "      <td>0</td>\n",
       "      <td>0</td>\n",
       "    </tr>\n",
       "    <tr>\n",
       "      <th>3</th>\n",
       "      <td>HOSTAGE</td>\n",
       "      <td>CLUB HOUSE</td>\n",
       "      <td>CHURCH</td>\n",
       "      <td>Defender</td>\n",
       "      <td>AttackersEliminated</td>\n",
       "      <td>Defender</td>\n",
       "      <td>0</td>\n",
       "      <td>1</td>\n",
       "      <td>3</td>\n",
       "      <td>0</td>\n",
       "    </tr>\n",
       "    <tr>\n",
       "      <th>4</th>\n",
       "      <td>HOSTAGE</td>\n",
       "      <td>CLUB HOUSE</td>\n",
       "      <td>BEDROOM</td>\n",
       "      <td>Attacker</td>\n",
       "      <td>DefendersEliminated</td>\n",
       "      <td>Defender</td>\n",
       "      <td>0</td>\n",
       "      <td>0</td>\n",
       "      <td>0</td>\n",
       "      <td>1</td>\n",
       "    </tr>\n",
       "  </tbody>\n",
       "</table>\n",
       "</div>"
      ],
      "text/plain": [
       "  gamemode     mapname objectivelocation   winrole          endroundreason  \\\n",
       "0  HOSTAGE  CLUB HOUSE        STRIP CLUB  Defender  AttackersKilledHostage   \n",
       "1  HOSTAGE  CLUB HOUSE            CHURCH  Defender     AttackersEliminated   \n",
       "2  HOSTAGE  CLUB HOUSE            CHURCH  Defender     AttackersEliminated   \n",
       "3  HOSTAGE  CLUB HOUSE            CHURCH  Defender     AttackersEliminated   \n",
       "4  HOSTAGE  CLUB HOUSE           BEDROOM  Attacker     DefendersEliminated   \n",
       "\n",
       "       role  team  haswon  nbkills  isdead  \n",
       "0  Defender     1       1        0       0  \n",
       "1  Defender     0       1        0       1  \n",
       "2  Defender     1       1        0       0  \n",
       "3  Defender     0       1        3       0  \n",
       "4  Defender     0       0        0       1  "
      ]
     },
     "execution_count": 9,
     "metadata": {},
     "output_type": "execute_result"
    }
   ],
   "source": [
    "df1.head()"
   ]
  },
  {
   "cell_type": "code",
   "execution_count": 31,
   "id": "0129714b",
   "metadata": {},
   "outputs": [],
   "source": [
    "df1.to_csv(\"C:\\\\Appuzzz\\\\University\\\\Sem 2\\\\Esports\\\\R6\\\\datadump\\\\question_3.csv\")"
   ]
  },
  {
   "cell_type": "code",
   "execution_count": 52,
   "id": "23df9e99",
   "metadata": {},
   "outputs": [
    {
     "data": {
      "text/plain": [
       "array(['CLUB HOUSE', 'PLANE', 'KANAL', 'HEREFORD BASE', 'CONSULATE',\n",
       "       'YACHT', 'OREGON', 'BORDER', 'SKYSCRAPER', 'BANK', 'COASTLINE',\n",
       "       'BARTLETT U.', 'HOUSE', 'KAFE DOSTOYEVSKY', 'FAVELAS', 'CHALET'],\n",
       "      dtype=object)"
      ]
     },
     "execution_count": 52,
     "metadata": {},
     "output_type": "execute_result"
    }
   ],
   "source": [
    "df1.mapname.unique()"
   ]
  },
  {
   "cell_type": "markdown",
   "id": "4747e37b",
   "metadata": {},
   "source": [
    "## Gamemode - BOMB\n",
    "### Checking the most end round win reason for each map"
   ]
  },
  {
   "cell_type": "code",
   "execution_count": 11,
   "id": "33b8027b",
   "metadata": {},
   "outputs": [
    {
     "data": {
      "text/html": [
       "<div>\n",
       "<style scoped>\n",
       "    .dataframe tbody tr th:only-of-type {\n",
       "        vertical-align: middle;\n",
       "    }\n",
       "\n",
       "    .dataframe tbody tr th {\n",
       "        vertical-align: top;\n",
       "    }\n",
       "\n",
       "    .dataframe thead th {\n",
       "        text-align: right;\n",
       "    }\n",
       "</style>\n",
       "<table border=\"1\" class=\"dataframe\">\n",
       "  <thead>\n",
       "    <tr style=\"text-align: right;\">\n",
       "      <th></th>\n",
       "      <th>gamemode</th>\n",
       "      <th>mapname</th>\n",
       "      <th>objectivelocation</th>\n",
       "      <th>winrole</th>\n",
       "      <th>endroundreason</th>\n",
       "      <th>role</th>\n",
       "      <th>team</th>\n",
       "      <th>haswon</th>\n",
       "      <th>nbkills</th>\n",
       "      <th>isdead</th>\n",
       "    </tr>\n",
       "  </thead>\n",
       "  <tbody>\n",
       "    <tr>\n",
       "      <th>54</th>\n",
       "      <td>BOMB</td>\n",
       "      <td>PLANE</td>\n",
       "      <td>MEETING ROOM / EXECUTIVE OFFICE</td>\n",
       "      <td>Defender</td>\n",
       "      <td>AttackersEliminated</td>\n",
       "      <td>Attacker</td>\n",
       "      <td>0</td>\n",
       "      <td>0</td>\n",
       "      <td>0</td>\n",
       "      <td>1</td>\n",
       "    </tr>\n",
       "    <tr>\n",
       "      <th>55</th>\n",
       "      <td>BOMB</td>\n",
       "      <td>PLANE</td>\n",
       "      <td>CARGO HOLD / LUGGAGE HOLD</td>\n",
       "      <td>Attacker</td>\n",
       "      <td>DefendersEliminated</td>\n",
       "      <td>Attacker</td>\n",
       "      <td>1</td>\n",
       "      <td>1</td>\n",
       "      <td>0</td>\n",
       "      <td>0</td>\n",
       "    </tr>\n",
       "    <tr>\n",
       "      <th>56</th>\n",
       "      <td>BOMB</td>\n",
       "      <td>PLANE</td>\n",
       "      <td>CARGO HOLD / LUGGAGE HOLD</td>\n",
       "      <td>Attacker</td>\n",
       "      <td>DefendersEliminated</td>\n",
       "      <td>Attacker</td>\n",
       "      <td>1</td>\n",
       "      <td>1</td>\n",
       "      <td>2</td>\n",
       "      <td>0</td>\n",
       "    </tr>\n",
       "    <tr>\n",
       "      <th>57</th>\n",
       "      <td>BOMB</td>\n",
       "      <td>PLANE</td>\n",
       "      <td>MEETING ROOM / EXECUTIVE OFFICE</td>\n",
       "      <td>Defender</td>\n",
       "      <td>AttackersEliminated</td>\n",
       "      <td>Defender</td>\n",
       "      <td>1</td>\n",
       "      <td>1</td>\n",
       "      <td>4</td>\n",
       "      <td>0</td>\n",
       "    </tr>\n",
       "    <tr>\n",
       "      <th>58</th>\n",
       "      <td>BOMB</td>\n",
       "      <td>PLANE</td>\n",
       "      <td>CARGO HOLD / LUGGAGE HOLD</td>\n",
       "      <td>Attacker</td>\n",
       "      <td>DefendersEliminated</td>\n",
       "      <td>Defender</td>\n",
       "      <td>0</td>\n",
       "      <td>0</td>\n",
       "      <td>0</td>\n",
       "      <td>1</td>\n",
       "    </tr>\n",
       "  </tbody>\n",
       "</table>\n",
       "</div>"
      ],
      "text/plain": [
       "   gamemode mapname                objectivelocation   winrole  \\\n",
       "54     BOMB   PLANE  MEETING ROOM / EXECUTIVE OFFICE  Defender   \n",
       "55     BOMB   PLANE        CARGO HOLD / LUGGAGE HOLD  Attacker   \n",
       "56     BOMB   PLANE        CARGO HOLD / LUGGAGE HOLD  Attacker   \n",
       "57     BOMB   PLANE  MEETING ROOM / EXECUTIVE OFFICE  Defender   \n",
       "58     BOMB   PLANE        CARGO HOLD / LUGGAGE HOLD  Attacker   \n",
       "\n",
       "         endroundreason      role  team  haswon  nbkills  isdead  \n",
       "54  AttackersEliminated  Attacker     0       0        0       1  \n",
       "55  DefendersEliminated  Attacker     1       1        0       0  \n",
       "56  DefendersEliminated  Attacker     1       1        2       0  \n",
       "57  AttackersEliminated  Defender     1       1        4       0  \n",
       "58  DefendersEliminated  Defender     0       0        0       1  "
      ]
     },
     "execution_count": 11,
     "metadata": {},
     "output_type": "execute_result"
    }
   ],
   "source": [
    "# Filtering only the BOMB data\n",
    "df_bomb = df1[df['gamemode'] == 'BOMB']\n",
    "df_bomb.head()"
   ]
  },
  {
   "cell_type": "code",
   "execution_count": 12,
   "id": "9ed41403",
   "metadata": {},
   "outputs": [],
   "source": [
    "df_bomb = df_bomb.groupby(['mapname','winrole','endroundreason'], as_index = False)['haswon'].sum()"
   ]
  },
  {
   "cell_type": "code",
   "execution_count": 13,
   "id": "6b96b2bd",
   "metadata": {},
   "outputs": [
    {
     "data": {
      "text/html": [
       "<div>\n",
       "<style scoped>\n",
       "    .dataframe tbody tr th:only-of-type {\n",
       "        vertical-align: middle;\n",
       "    }\n",
       "\n",
       "    .dataframe tbody tr th {\n",
       "        vertical-align: top;\n",
       "    }\n",
       "\n",
       "    .dataframe thead th {\n",
       "        text-align: right;\n",
       "    }\n",
       "</style>\n",
       "<table border=\"1\" class=\"dataframe\">\n",
       "  <thead>\n",
       "    <tr style=\"text-align: right;\">\n",
       "      <th></th>\n",
       "      <th>mapname</th>\n",
       "      <th>winrole</th>\n",
       "      <th>endroundreason</th>\n",
       "      <th>haswon</th>\n",
       "    </tr>\n",
       "  </thead>\n",
       "  <tbody>\n",
       "    <tr>\n",
       "      <th>24</th>\n",
       "      <td>CHALET</td>\n",
       "      <td>Attacker</td>\n",
       "      <td>DefendersEliminated</td>\n",
       "      <td>4520</td>\n",
       "    </tr>\n",
       "    <tr>\n",
       "      <th>32</th>\n",
       "      <td>CLUB HOUSE</td>\n",
       "      <td>Attacker</td>\n",
       "      <td>DefendersEliminated</td>\n",
       "      <td>4350</td>\n",
       "    </tr>\n",
       "    <tr>\n",
       "      <th>116</th>\n",
       "      <td>SKYSCRAPER</td>\n",
       "      <td>Attacker</td>\n",
       "      <td>DefendersEliminated</td>\n",
       "      <td>4321</td>\n",
       "    </tr>\n",
       "    <tr>\n",
       "      <th>98</th>\n",
       "      <td>OREGON</td>\n",
       "      <td>Attacker</td>\n",
       "      <td>DefendersEliminated</td>\n",
       "      <td>4234</td>\n",
       "    </tr>\n",
       "    <tr>\n",
       "      <th>57</th>\n",
       "      <td>FAVELAS</td>\n",
       "      <td>Attacker</td>\n",
       "      <td>DefendersEliminated</td>\n",
       "      <td>4181</td>\n",
       "    </tr>\n",
       "    <tr>\n",
       "      <th>...</th>\n",
       "      <td>...</td>\n",
       "      <td>...</td>\n",
       "      <td>...</td>\n",
       "      <td>...</td>\n",
       "    </tr>\n",
       "    <tr>\n",
       "      <th>96</th>\n",
       "      <td>KANAL</td>\n",
       "      <td>Defender</td>\n",
       "      <td>NoEnemies</td>\n",
       "      <td>2</td>\n",
       "    </tr>\n",
       "    <tr>\n",
       "      <th>30</th>\n",
       "      <td>CHALET</td>\n",
       "      <td>Defender</td>\n",
       "      <td>NoEnemies</td>\n",
       "      <td>2</td>\n",
       "    </tr>\n",
       "    <tr>\n",
       "      <th>114</th>\n",
       "      <td>PLANE</td>\n",
       "      <td>Defender</td>\n",
       "      <td>NoEnemies</td>\n",
       "      <td>2</td>\n",
       "    </tr>\n",
       "    <tr>\n",
       "      <th>123</th>\n",
       "      <td>SKYSCRAPER</td>\n",
       "      <td>Defender</td>\n",
       "      <td>NoEnemies</td>\n",
       "      <td>1</td>\n",
       "    </tr>\n",
       "    <tr>\n",
       "      <th>63</th>\n",
       "      <td>FAVELAS</td>\n",
       "      <td>Defender</td>\n",
       "      <td>NoEnemies</td>\n",
       "      <td>1</td>\n",
       "    </tr>\n",
       "  </tbody>\n",
       "</table>\n",
       "<p>131 rows × 4 columns</p>\n",
       "</div>"
      ],
      "text/plain": [
       "        mapname   winrole       endroundreason  haswon\n",
       "24       CHALET  Attacker  DefendersEliminated    4520\n",
       "32   CLUB HOUSE  Attacker  DefendersEliminated    4350\n",
       "116  SKYSCRAPER  Attacker  DefendersEliminated    4321\n",
       "98       OREGON  Attacker  DefendersEliminated    4234\n",
       "57      FAVELAS  Attacker  DefendersEliminated    4181\n",
       "..          ...       ...                  ...     ...\n",
       "96        KANAL  Defender            NoEnemies       2\n",
       "30       CHALET  Defender            NoEnemies       2\n",
       "114       PLANE  Defender            NoEnemies       2\n",
       "123  SKYSCRAPER  Defender            NoEnemies       1\n",
       "63      FAVELAS  Defender            NoEnemies       1\n",
       "\n",
       "[131 rows x 4 columns]"
      ]
     },
     "execution_count": 13,
     "metadata": {},
     "output_type": "execute_result"
    }
   ],
   "source": [
    "df_bomb.sort_values('haswon',ascending = False)"
   ]
  },
  {
   "cell_type": "code",
   "execution_count": 16,
   "id": "c35a041e",
   "metadata": {},
   "outputs": [],
   "source": [
    "# Delete 'allteamsdead' and 'Noenemies'\n",
    "\n",
    "out = ['AllTeamsDead','NoEnemies']\n",
    "df_bomb.drop(df_bomb[df_bomb.endroundreason == 'NoEnemies'].index,inplace= True)\n",
    "df_bomb.drop(df_bomb[df_bomb.endroundreason == 'AllTeamsDead'].index,inplace= True)"
   ]
  },
  {
   "cell_type": "code",
   "execution_count": 17,
   "id": "ae7e9e79",
   "metadata": {},
   "outputs": [],
   "source": [
    "# Create the color pallette\n",
    "cmap = sns.color_palette(\"flare\", as_cmap=True)\n",
    "ques_3_role = df_bomb.groupby('winrole')"
   ]
  },
  {
   "cell_type": "code",
   "execution_count": 18,
   "id": "e8976faf",
   "metadata": {},
   "outputs": [
    {
     "data": {
      "image/png": "[encoded data removed]",
      "text/plain": [
       "<Figure size 864x504 with 2 Axes>"
      ]
     },
     "metadata": {
      "needs_background": "light"
     },
     "output_type": "display_data"
    },
    {
     "data": {
      "image/png": "[encoded data removed]",
      "text/plain": [
       "<Figure size 864x504 with 2 Axes>"
      ]
     },
     "metadata": {
      "needs_background": "light"
     },
     "output_type": "display_data"
    }
   ],
   "source": [
    "# Plotting the heat map\n",
    "for role, tbl in ques_3_role:\n",
    "    pivot = tbl.pivot(index='endroundreason', columns='mapname', values='haswon')\n",
    "    f, ax = plt.subplots(figsize=(12,7))\n",
    "    plt.title(role + ' Heatmap')\n",
    "    sns.heatmap(pivot, cmap=cmap, square=True, linewidths=.5, ax=ax)\n",
    "plt.show()"
   ]
  },
  {
   "cell_type": "code",
   "execution_count": 19,
   "id": "e1656114",
   "metadata": {},
   "outputs": [
    {
     "data": {
      "text/html": [
       "<div>\n",
       "<style scoped>\n",
       "    .dataframe tbody tr th:only-of-type {\n",
       "        vertical-align: middle;\n",
       "    }\n",
       "\n",
       "    .dataframe tbody tr th {\n",
       "        vertical-align: top;\n",
       "    }\n",
       "\n",
       "    .dataframe thead th {\n",
       "        text-align: right;\n",
       "    }\n",
       "</style>\n",
       "<table border=\"1\" class=\"dataframe\">\n",
       "  <thead>\n",
       "    <tr style=\"text-align: right;\">\n",
       "      <th></th>\n",
       "      <th>mapname</th>\n",
       "      <th>endroundreason</th>\n",
       "      <th>haswon</th>\n",
       "    </tr>\n",
       "  </thead>\n",
       "  <tbody>\n",
       "    <tr>\n",
       "      <th>0</th>\n",
       "      <td>BANK</td>\n",
       "      <td>AttackersEliminated</td>\n",
       "      <td>2936</td>\n",
       "    </tr>\n",
       "    <tr>\n",
       "      <th>1</th>\n",
       "      <td>BANK</td>\n",
       "      <td>AttackersSurrendered</td>\n",
       "      <td>14</td>\n",
       "    </tr>\n",
       "    <tr>\n",
       "      <th>2</th>\n",
       "      <td>BANK</td>\n",
       "      <td>BombDeactivated_OneBomb</td>\n",
       "      <td>121</td>\n",
       "    </tr>\n",
       "    <tr>\n",
       "      <th>3</th>\n",
       "      <td>BANK</td>\n",
       "      <td>BombExploded</td>\n",
       "      <td>658</td>\n",
       "    </tr>\n",
       "    <tr>\n",
       "      <th>4</th>\n",
       "      <td>BANK</td>\n",
       "      <td>DefendersEliminated</td>\n",
       "      <td>3511</td>\n",
       "    </tr>\n",
       "    <tr>\n",
       "      <th>...</th>\n",
       "      <td>...</td>\n",
       "      <td>...</td>\n",
       "      <td>...</td>\n",
       "    </tr>\n",
       "    <tr>\n",
       "      <th>106</th>\n",
       "      <td>YACHT</td>\n",
       "      <td>AttackersSurrendered</td>\n",
       "      <td>15</td>\n",
       "    </tr>\n",
       "    <tr>\n",
       "      <th>107</th>\n",
       "      <td>YACHT</td>\n",
       "      <td>BombDeactivated_OneBomb</td>\n",
       "      <td>105</td>\n",
       "    </tr>\n",
       "    <tr>\n",
       "      <th>108</th>\n",
       "      <td>YACHT</td>\n",
       "      <td>BombExploded</td>\n",
       "      <td>519</td>\n",
       "    </tr>\n",
       "    <tr>\n",
       "      <th>109</th>\n",
       "      <td>YACHT</td>\n",
       "      <td>DefendersEliminated</td>\n",
       "      <td>3597</td>\n",
       "    </tr>\n",
       "    <tr>\n",
       "      <th>110</th>\n",
       "      <td>YACHT</td>\n",
       "      <td>DefuserDeactivated</td>\n",
       "      <td>400</td>\n",
       "    </tr>\n",
       "  </tbody>\n",
       "</table>\n",
       "<p>111 rows × 3 columns</p>\n",
       "</div>"
      ],
      "text/plain": [
       "    mapname           endroundreason  haswon\n",
       "0      BANK      AttackersEliminated    2936\n",
       "1      BANK     AttackersSurrendered      14\n",
       "2      BANK  BombDeactivated_OneBomb     121\n",
       "3      BANK             BombExploded     658\n",
       "4      BANK      DefendersEliminated    3511\n",
       "..      ...                      ...     ...\n",
       "106   YACHT     AttackersSurrendered      15\n",
       "107   YACHT  BombDeactivated_OneBomb     105\n",
       "108   YACHT             BombExploded     519\n",
       "109   YACHT      DefendersEliminated    3597\n",
       "110   YACHT       DefuserDeactivated     400\n",
       "\n",
       "[111 rows x 3 columns]"
      ]
     },
     "execution_count": 19,
     "metadata": {},
     "output_type": "execute_result"
    }
   ],
   "source": [
    "df_bomb_all = df_bomb.groupby(['mapname','endroundreason'], as_index = False)['haswon'].sum()\n",
    "df_bomb_all"
   ]
  },
  {
   "cell_type": "code",
   "execution_count": 20,
   "id": "62fea6d7",
   "metadata": {},
   "outputs": [
    {
     "data": {
      "image/png": "[encoded data removed]",
      "text/plain": [
       "<Figure size 864x504 with 2 Axes>"
      ]
     },
     "metadata": {
      "needs_background": "light"
     },
     "output_type": "display_data"
    }
   ],
   "source": [
    "pivot = df_bomb_all.pivot(index='endroundreason', columns='mapname', values='haswon')\n",
    "f, ax = plt.subplots(figsize=(12,7))\n",
    "plt.title(' Heatmap')\n",
    "sns.heatmap(pivot, cmap=cmap, square=True, linewidths=.5, ax=ax)\n",
    "plt.show()"
   ]
  },
  {
   "cell_type": "code",
   "execution_count": 21,
   "id": "1eef8773",
   "metadata": {},
   "outputs": [
    {
     "data": {
      "text/html": [
       "<div>\n",
       "<style scoped>\n",
       "    .dataframe tbody tr th:only-of-type {\n",
       "        vertical-align: middle;\n",
       "    }\n",
       "\n",
       "    .dataframe tbody tr th {\n",
       "        vertical-align: top;\n",
       "    }\n",
       "\n",
       "    .dataframe thead th {\n",
       "        text-align: right;\n",
       "    }\n",
       "</style>\n",
       "<table border=\"1\" class=\"dataframe\">\n",
       "  <thead>\n",
       "    <tr style=\"text-align: right;\">\n",
       "      <th></th>\n",
       "      <th>mapname</th>\n",
       "      <th>endroundreason</th>\n",
       "      <th>haswon</th>\n",
       "    </tr>\n",
       "  </thead>\n",
       "  <tbody>\n",
       "    <tr>\n",
       "      <th>10</th>\n",
       "      <td>BARTLETT U.</td>\n",
       "      <td>BombExploded</td>\n",
       "      <td>750</td>\n",
       "    </tr>\n",
       "    <tr>\n",
       "      <th>73</th>\n",
       "      <td>KAFE DOSTOYEVSKY</td>\n",
       "      <td>BombExploded</td>\n",
       "      <td>704</td>\n",
       "    </tr>\n",
       "    <tr>\n",
       "      <th>31</th>\n",
       "      <td>CLUB HOUSE</td>\n",
       "      <td>BombExploded</td>\n",
       "      <td>669</td>\n",
       "    </tr>\n",
       "    <tr>\n",
       "      <th>80</th>\n",
       "      <td>KANAL</td>\n",
       "      <td>BombExploded</td>\n",
       "      <td>659</td>\n",
       "    </tr>\n",
       "    <tr>\n",
       "      <th>3</th>\n",
       "      <td>BANK</td>\n",
       "      <td>BombExploded</td>\n",
       "      <td>658</td>\n",
       "    </tr>\n",
       "    <tr>\n",
       "      <th>...</th>\n",
       "      <td>...</td>\n",
       "      <td>...</td>\n",
       "      <td>...</td>\n",
       "    </tr>\n",
       "    <tr>\n",
       "      <th>89</th>\n",
       "      <td>OREGON</td>\n",
       "      <td>DefendersSurrendered</td>\n",
       "      <td>5</td>\n",
       "    </tr>\n",
       "    <tr>\n",
       "      <th>99</th>\n",
       "      <td>SKYSCRAPER</td>\n",
       "      <td>AttackersSurrendered</td>\n",
       "      <td>5</td>\n",
       "    </tr>\n",
       "    <tr>\n",
       "      <th>103</th>\n",
       "      <td>SKYSCRAPER</td>\n",
       "      <td>DefendersSurrendered</td>\n",
       "      <td>5</td>\n",
       "    </tr>\n",
       "    <tr>\n",
       "      <th>68</th>\n",
       "      <td>HOUSE</td>\n",
       "      <td>DefendersSurrendered</td>\n",
       "      <td>5</td>\n",
       "    </tr>\n",
       "    <tr>\n",
       "      <th>92</th>\n",
       "      <td>PLANE</td>\n",
       "      <td>AttackersSurrendered</td>\n",
       "      <td>4</td>\n",
       "    </tr>\n",
       "  </tbody>\n",
       "</table>\n",
       "<p>79 rows × 3 columns</p>\n",
       "</div>"
      ],
      "text/plain": [
       "              mapname        endroundreason  haswon\n",
       "10        BARTLETT U.          BombExploded     750\n",
       "73   KAFE DOSTOYEVSKY          BombExploded     704\n",
       "31         CLUB HOUSE          BombExploded     669\n",
       "80              KANAL          BombExploded     659\n",
       "3                BANK          BombExploded     658\n",
       "..                ...                   ...     ...\n",
       "89             OREGON  DefendersSurrendered       5\n",
       "99         SKYSCRAPER  AttackersSurrendered       5\n",
       "103        SKYSCRAPER  DefendersSurrendered       5\n",
       "68              HOUSE  DefendersSurrendered       5\n",
       "92              PLANE  AttackersSurrendered       4\n",
       "\n",
       "[79 rows x 3 columns]"
      ]
     },
     "execution_count": 21,
     "metadata": {},
     "output_type": "execute_result"
    }
   ],
   "source": [
    "# Dropping attackers and defenders elimination reason\n",
    "\n",
    "df_bomb_all.drop(df_bomb_all[df_bomb_all.endroundreason == 'AttackersEliminated'].index,inplace= True)\n",
    "df_bomb_all.drop(df_bomb_all[df_bomb_all.endroundreason == 'DefendersEliminated'].index,inplace= True)\n",
    "df_bomb_all.sort_values('haswon',ascending = False)"
   ]
  },
  {
   "cell_type": "code",
   "execution_count": 22,
   "id": "5ca39d7d",
   "metadata": {},
   "outputs": [
    {
     "data": {
      "image/png": "[encoded data removed]",
      "text/plain": [
       "<Figure size 864x504 with 2 Axes>"
      ]
     },
     "metadata": {
      "needs_background": "light"
     },
     "output_type": "display_data"
    }
   ],
   "source": [
    "pivot = df_bomb_all.pivot(index='endroundreason', columns='mapname', values='haswon')\n",
    "f, ax = plt.subplots(figsize=(12,7))\n",
    "plt.title(' Heatmap')\n",
    "sns.heatmap(pivot, cmap=cmap, square=True, linewidths=.5, ax=ax)\n",
    "plt.show()"
   ]
  },
  {
   "cell_type": "markdown",
   "id": "1a10980e",
   "metadata": {},
   "source": [
    "### Bank"
   ]
  },
  {
   "cell_type": "code",
   "execution_count": 43,
   "id": "fee59419",
   "metadata": {},
   "outputs": [
    {
     "data": {
      "text/html": [
       "<div>\n",
       "<style scoped>\n",
       "    .dataframe tbody tr th:only-of-type {\n",
       "        vertical-align: middle;\n",
       "    }\n",
       "\n",
       "    .dataframe tbody tr th {\n",
       "        vertical-align: top;\n",
       "    }\n",
       "\n",
       "    .dataframe thead th {\n",
       "        text-align: right;\n",
       "    }\n",
       "</style>\n",
       "<table border=\"1\" class=\"dataframe\">\n",
       "  <thead>\n",
       "    <tr style=\"text-align: right;\">\n",
       "      <th></th>\n",
       "      <th>mapname</th>\n",
       "      <th>winrole</th>\n",
       "      <th>endroundreason</th>\n",
       "      <th>haswon</th>\n",
       "    </tr>\n",
       "  </thead>\n",
       "  <tbody>\n",
       "    <tr>\n",
       "      <th>1</th>\n",
       "      <td>BANK</td>\n",
       "      <td>Attacker</td>\n",
       "      <td>DefendersEliminated</td>\n",
       "      <td>3511</td>\n",
       "    </tr>\n",
       "    <tr>\n",
       "      <th>3</th>\n",
       "      <td>BANK</td>\n",
       "      <td>Defender</td>\n",
       "      <td>AttackersEliminated</td>\n",
       "      <td>2936</td>\n",
       "    </tr>\n",
       "    <tr>\n",
       "      <th>5</th>\n",
       "      <td>BANK</td>\n",
       "      <td>Defender</td>\n",
       "      <td>BombExploded</td>\n",
       "      <td>658</td>\n",
       "    </tr>\n",
       "    <tr>\n",
       "      <th>6</th>\n",
       "      <td>BANK</td>\n",
       "      <td>Defender</td>\n",
       "      <td>DefuserDeactivated</td>\n",
       "      <td>297</td>\n",
       "    </tr>\n",
       "    <tr>\n",
       "      <th>0</th>\n",
       "      <td>BANK</td>\n",
       "      <td>Attacker</td>\n",
       "      <td>BombDeactivated_OneBomb</td>\n",
       "      <td>121</td>\n",
       "    </tr>\n",
       "    <tr>\n",
       "      <th>2</th>\n",
       "      <td>BANK</td>\n",
       "      <td>Attacker</td>\n",
       "      <td>DefendersSurrendered</td>\n",
       "      <td>14</td>\n",
       "    </tr>\n",
       "    <tr>\n",
       "      <th>4</th>\n",
       "      <td>BANK</td>\n",
       "      <td>Defender</td>\n",
       "      <td>AttackersSurrendered</td>\n",
       "      <td>14</td>\n",
       "    </tr>\n",
       "  </tbody>\n",
       "</table>\n",
       "</div>"
      ],
      "text/plain": [
       "  mapname   winrole           endroundreason  haswon\n",
       "1    BANK  Attacker      DefendersEliminated    3511\n",
       "3    BANK  Defender      AttackersEliminated    2936\n",
       "5    BANK  Defender             BombExploded     658\n",
       "6    BANK  Defender       DefuserDeactivated     297\n",
       "0    BANK  Attacker  BombDeactivated_OneBomb     121\n",
       "2    BANK  Attacker     DefendersSurrendered      14\n",
       "4    BANK  Defender     AttackersSurrendered      14"
      ]
     },
     "execution_count": 43,
     "metadata": {},
     "output_type": "execute_result"
    }
   ],
   "source": [
    "df_bomb_bank = df_bomb[df_bomb['mapname'] == 'BANK'].sort_values(\"haswon\", ascending = False)\n",
    "df_bomb_bank"
   ]
  },
  {
   "cell_type": "code",
   "execution_count": 69,
   "id": "661baa1d",
   "metadata": {},
   "outputs": [],
   "source": [
    "#fig = px.bar(df_bomb_bank, x = 'endroundreason', y = 'haswon', color = 'winrole', barmode = 'group')\n",
    "#fig.show()"
   ]
  },
  {
   "cell_type": "markdown",
   "id": "92946b8d",
   "metadata": {},
   "source": [
    "### Club House"
   ]
  },
  {
   "cell_type": "code",
   "execution_count": 17,
   "id": "4b80af2d",
   "metadata": {},
   "outputs": [],
   "source": [
    "df_bomb_CH = df_bomb[df_bomb['mapname'] == 'CLUB HOUSE'].sort_values(\"haswon\", ascending = False)"
   ]
  },
  {
   "cell_type": "code",
   "execution_count": 18,
   "id": "600ba2e1",
   "metadata": {},
   "outputs": [
    {
     "data": {
      "text/html": [
       "<div>\n",
       "<style scoped>\n",
       "    .dataframe tbody tr th:only-of-type {\n",
       "        vertical-align: middle;\n",
       "    }\n",
       "\n",
       "    .dataframe tbody tr th {\n",
       "        vertical-align: top;\n",
       "    }\n",
       "\n",
       "    .dataframe thead th {\n",
       "        text-align: right;\n",
       "    }\n",
       "</style>\n",
       "<table border=\"1\" class=\"dataframe\">\n",
       "  <thead>\n",
       "    <tr style=\"text-align: right;\">\n",
       "      <th></th>\n",
       "      <th>mapname</th>\n",
       "      <th>winrole</th>\n",
       "      <th>endroundreason</th>\n",
       "      <th>haswon</th>\n",
       "    </tr>\n",
       "  </thead>\n",
       "  <tbody>\n",
       "    <tr>\n",
       "      <th>32</th>\n",
       "      <td>CLUB HOUSE</td>\n",
       "      <td>Attacker</td>\n",
       "      <td>DefendersEliminated</td>\n",
       "      <td>4350</td>\n",
       "    </tr>\n",
       "    <tr>\n",
       "      <th>34</th>\n",
       "      <td>CLUB HOUSE</td>\n",
       "      <td>Defender</td>\n",
       "      <td>AttackersEliminated</td>\n",
       "      <td>2905</td>\n",
       "    </tr>\n",
       "    <tr>\n",
       "      <th>36</th>\n",
       "      <td>CLUB HOUSE</td>\n",
       "      <td>Defender</td>\n",
       "      <td>BombExploded</td>\n",
       "      <td>669</td>\n",
       "    </tr>\n",
       "    <tr>\n",
       "      <th>37</th>\n",
       "      <td>CLUB HOUSE</td>\n",
       "      <td>Defender</td>\n",
       "      <td>DefuserDeactivated</td>\n",
       "      <td>591</td>\n",
       "    </tr>\n",
       "    <tr>\n",
       "      <th>31</th>\n",
       "      <td>CLUB HOUSE</td>\n",
       "      <td>Attacker</td>\n",
       "      <td>BombDeactivated_OneBomb</td>\n",
       "      <td>214</td>\n",
       "    </tr>\n",
       "  </tbody>\n",
       "</table>\n",
       "</div>"
      ],
      "text/plain": [
       "       mapname   winrole           endroundreason  haswon\n",
       "32  CLUB HOUSE  Attacker      DefendersEliminated    4350\n",
       "34  CLUB HOUSE  Defender      AttackersEliminated    2905\n",
       "36  CLUB HOUSE  Defender             BombExploded     669\n",
       "37  CLUB HOUSE  Defender       DefuserDeactivated     591\n",
       "31  CLUB HOUSE  Attacker  BombDeactivated_OneBomb     214"
      ]
     },
     "execution_count": 18,
     "metadata": {},
     "output_type": "execute_result"
    }
   ],
   "source": [
    "df_bomb_CH.head()"
   ]
  },
  {
   "cell_type": "code",
   "execution_count": 106,
   "id": "d76d913c",
   "metadata": {},
   "outputs": [
    {
     "data": {
      "application/vnd.plotly.v1+json": {
       "config": {
        "plotlyServerURL": "https://plot.ly"
       },
       "data": [
        {
         "alignmentgroup": "True",
         "hovertemplate": "winrole=Attacker<br>endroundreason=%{x}<br>haswon=%{y}<extra></extra>",
         "legendgroup": "Attacker",
         "marker": {
          "color": "#636efa",
          "pattern": {
           "shape": ""
          }
         },
         "name": "Attacker",
         "offsetgroup": "Attacker",
         "orientation": "v",
         "showlegend": true,
         "textposition": "auto",
         "type": "bar",
         "x": [
          "DefendersEliminated",
          "BombDeactivated_OneBomb",
          "DefendersSurrendered"
         ],
         "xaxis": "x",
         "y": [
          4350,
          214,
          20
         ],
         "yaxis": "y"
        },
        {
         "alignmentgroup": "True",
         "hovertemplate": "winrole=Defender<br>endroundreason=%{x}<br>haswon=%{y}<extra></extra>",
         "legendgroup": "Defender",
         "marker": {
          "color": "#EF553B",
          "pattern": {
           "shape": ""
          }
         },
         "name": "Defender",
         "offsetgroup": "Defender",
         "orientation": "v",
         "showlegend": true,
         "textposition": "auto",
         "type": "bar",
         "x": [
          "AttackersEliminated",
          "BombExploded",
          "DefuserDeactivated",
          "AttackersSurrendered",
          "NoEnemies"
         ],
         "xaxis": "x",
         "y": [
          2905,
          669,
          591,
          26,
          4
         ],
         "yaxis": "y"
        }
       ],
       "layout": {
        "barmode": "group",
        "legend": {
         "title": {
          "text": "winrole"
         },
         "tracegroupgap": 0
        },
        "margin": {
         "t": 60
        },
        "template": {
         "data": {
          "bar": [
           {
            "error_x": {
             "color": "#2a3f5f"
            },
            "error_y": {
             "color": "#2a3f5f"
            },
            "marker": {
             "line": {
              "color": "#E5ECF6",
              "width": 0.5
             },
             "pattern": {
              "fillmode": "overlay",
              "size": 10,
              "solidity": 0.2
             }
            },
            "type": "bar"
           }
          ],
          "barpolar": [
           {
            "marker": {
             "line": {
              "color": "#E5ECF6",
              "width": 0.5
             },
             "pattern": {
              "fillmode": "overlay",
              "size": 10,
              "solidity": 0.2
             }
            },
            "type": "barpolar"
           }
          ],
          "carpet": [
           {
            "aaxis": {
             "endlinecolor": "#2a3f5f",
             "gridcolor": "white",
             "linecolor": "white",
             "minorgridcolor": "white",
             "startlinecolor": "#2a3f5f"
            },
            "baxis": {
             "endlinecolor": "#2a3f5f",
             "gridcolor": "white",
             "linecolor": "white",
             "minorgridcolor": "white",
             "startlinecolor": "#2a3f5f"
            },
            "type": "carpet"
           }
          ],
          "choropleth": [
           {
            "colorbar": {
             "outlinewidth": 0,
             "ticks": ""
            },
            "type": "choropleth"
           }
          ],
          "contour": [
           {
            "colorbar": {
             "outlinewidth": 0,
             "ticks": ""
            },
            "colorscale": [
             [
              0,
              "#0d0887"
             ],
             [
              0.1111111111111111,
              "#46039f"
             ],
             [
              0.2222222222222222,
              "#7201a8"
             ],
             [
              0.3333333333333333,
              "#9c179e"
             ],
             [
              0.4444444444444444,
              "#bd3786"
             ],
             [
              0.5555555555555556,
              "#d8576b"
             ],
             [
              0.6666666666666666,
              "#ed7953"
             ],
             [
              0.7777777777777778,
              "#fb9f3a"
             ],
             [
              0.8888888888888888,
              "#fdca26"
             ],
             [
              1,
              "#f0f921"
             ]
            ],
            "type": "contour"
           }
          ],
          "contourcarpet": [
           {
            "colorbar": {
             "outlinewidth": 0,
             "ticks": ""
            },
            "type": "contourcarpet"
           }
          ],
          "heatmap": [
           {
            "colorbar": {
             "outlinewidth": 0,
             "ticks": ""
            },
            "colorscale": [
             [
              0,
              "#0d0887"
             ],
             [
              0.1111111111111111,
              "#46039f"
             ],
             [
              0.2222222222222222,
              "#7201a8"
             ],
             [
              0.3333333333333333,
              "#9c179e"
             ],
             [
              0.4444444444444444,
              "#bd3786"
             ],
             [
              0.5555555555555556,
              "#d8576b"
             ],
             [
              0.6666666666666666,
              "#ed7953"
             ],
             [
              0.7777777777777778,
              "#fb9f3a"
             ],
             [
              0.8888888888888888,
              "#fdca26"
             ],
             [
              1,
              "#f0f921"
             ]
            ],
            "type": "heatmap"
           }
          ],
          "heatmapgl": [
           {
            "colorbar": {
             "outlinewidth": 0,
             "ticks": ""
            },
            "colorscale": [
             [
              0,
              "#0d0887"
             ],
             [
              0.1111111111111111,
              "#46039f"
             ],
             [
              0.2222222222222222,
              "#7201a8"
             ],
             [
              0.3333333333333333,
              "#9c179e"
             ],
             [
              0.4444444444444444,
              "#bd3786"
             ],
             [
              0.5555555555555556,
              "#d8576b"
             ],
             [
              0.6666666666666666,
              "#ed7953"
             ],
             [
              0.7777777777777778,
              "#fb9f3a"
             ],
             [
              0.8888888888888888,
              "#fdca26"
             ],
             [
              1,
              "#f0f921"
             ]
            ],
            "type": "heatmapgl"
           }
          ],
          "histogram": [
           {
            "marker": {
             "pattern": {
              "fillmode": "overlay",
              "size": 10,
              "solidity": 0.2
             }
            },
            "type": "histogram"
           }
          ],
          "histogram2d": [
           {
            "colorbar": {
             "outlinewidth": 0,
             "ticks": ""
            },
            "colorscale": [
             [
              0,
              "#0d0887"
             ],
             [
              0.1111111111111111,
              "#46039f"
             ],
             [
              0.2222222222222222,
              "#7201a8"
             ],
             [
              0.3333333333333333,
              "#9c179e"
             ],
             [
              0.4444444444444444,
              "#bd3786"
             ],
             [
              0.5555555555555556,
              "#d8576b"
             ],
             [
              0.6666666666666666,
              "#ed7953"
             ],
             [
              0.7777777777777778,
              "#fb9f3a"
             ],
             [
              0.8888888888888888,
              "#fdca26"
             ],
             [
              1,
              "#f0f921"
             ]
            ],
            "type": "histogram2d"
           }
          ],
          "histogram2dcontour": [
           {
            "colorbar": {
             "outlinewidth": 0,
             "ticks": ""
            },
            "colorscale": [
             [
              0,
              "#0d0887"
             ],
             [
              0.1111111111111111,
              "#46039f"
             ],
             [
              0.2222222222222222,
              "#7201a8"
             ],
             [
              0.3333333333333333,
              "#9c179e"
             ],
             [
              0.4444444444444444,
              "#bd3786"
             ],
             [
              0.5555555555555556,
              "#d8576b"
             ],
             [
              0.6666666666666666,
              "#ed7953"
             ],
             [
              0.7777777777777778,
              "#fb9f3a"
             ],
             [
              0.8888888888888888,
              "#fdca26"
             ],
             [
              1,
              "#f0f921"
             ]
            ],
            "type": "histogram2dcontour"
           }
          ],
          "mesh3d": [
           {
            "colorbar": {
             "outlinewidth": 0,
             "ticks": ""
            },
            "type": "mesh3d"
           }
          ],
          "parcoords": [
           {
            "line": {
             "colorbar": {
              "outlinewidth": 0,
              "ticks": ""
             }
            },
            "type": "parcoords"
           }
          ],
          "pie": [
           {
            "automargin": true,
            "type": "pie"
           }
          ],
          "scatter": [
           {
            "fillpattern": {
             "fillmode": "overlay",
             "size": 10,
             "solidity": 0.2
            },
            "type": "scatter"
           }
          ],
          "scatter3d": [
           {
            "line": {
             "colorbar": {
              "outlinewidth": 0,
              "ticks": ""
             }
            },
            "marker": {
             "colorbar": {
              "outlinewidth": 0,
              "ticks": ""
             }
            },
            "type": "scatter3d"
           }
          ],
          "scattercarpet": [
           {
            "marker": {
             "colorbar": {
              "outlinewidth": 0,
              "ticks": ""
             }
            },
            "type": "scattercarpet"
           }
          ],
          "scattergeo": [
           {
            "marker": {
             "colorbar": {
              "outlinewidth": 0,
              "ticks": ""
             }
            },
            "type": "scattergeo"
           }
          ],
          "scattergl": [
           {
            "marker": {
             "colorbar": {
              "outlinewidth": 0,
              "ticks": ""
             }
            },
            "type": "scattergl"
           }
          ],
          "scattermapbox": [
           {
            "marker": {
             "colorbar": {
              "outlinewidth": 0,
              "ticks": ""
             }
            },
            "type": "scattermapbox"
           }
          ],
          "scatterpolar": [
           {
            "marker": {
             "colorbar": {
              "outlinewidth": 0,
              "ticks": ""
             }
            },
            "type": "scatterpolar"
           }
          ],
          "scatterpolargl": [
           {
            "marker": {
             "colorbar": {
              "outlinewidth": 0,
              "ticks": ""
             }
            },
            "type": "scatterpolargl"
           }
          ],
          "scatterternary": [
           {
            "marker": {
             "colorbar": {
              "outlinewidth": 0,
              "ticks": ""
             }
            },
            "type": "scatterternary"
           }
          ],
          "surface": [
           {
            "colorbar": {
             "outlinewidth": 0,
             "ticks": ""
            },
            "colorscale": [
             [
              0,
              "#0d0887"
             ],
             [
              0.1111111111111111,
              "#46039f"
             ],
             [
              0.2222222222222222,
              "#7201a8"
             ],
             [
              0.3333333333333333,
              "#9c179e"
             ],
             [
              0.4444444444444444,
              "#bd3786"
             ],
             [
              0.5555555555555556,
              "#d8576b"
             ],
             [
              0.6666666666666666,
              "#ed7953"
             ],
             [
              0.7777777777777778,
              "#fb9f3a"
             ],
             [
              0.8888888888888888,
              "#fdca26"
             ],
             [
              1,
              "#f0f921"
             ]
            ],
            "type": "surface"
           }
          ],
          "table": [
           {
            "cells": {
             "fill": {
              "color": "#EBF0F8"
             },
             "line": {
              "color": "white"
             }
            },
            "header": {
             "fill": {
              "color": "#C8D4E3"
             },
             "line": {
              "color": "white"
             }
            },
            "type": "table"
           }
          ]
         },
         "layout": {
          "annotationdefaults": {
           "arrowcolor": "#2a3f5f",
           "arrowhead": 0,
           "arrowwidth": 1
          },
          "autotypenumbers": "strict",
          "coloraxis": {
           "colorbar": {
            "outlinewidth": 0,
            "ticks": ""
           }
          },
          "colorscale": {
           "diverging": [
            [
             0,
             "#8e0152"
            ],
            [
             0.1,
             "#c51b7d"
            ],
            [
             0.2,
             "#de77ae"
            ],
            [
             0.3,
             "#f1b6da"
            ],
            [
             0.4,
             "#fde0ef"
            ],
            [
             0.5,
             "#f7f7f7"
            ],
            [
             0.6,
             "#e6f5d0"
            ],
            [
             0.7,
             "#b8e186"
            ],
            [
             0.8,
             "#7fbc41"
            ],
            [
             0.9,
             "#4d9221"
            ],
            [
             1,
             "#276419"
            ]
           ],
           "sequential": [
            [
             0,
             "#0d0887"
            ],
            [
             0.1111111111111111,
             "#46039f"
            ],
            [
             0.2222222222222222,
             "#7201a8"
            ],
            [
             0.3333333333333333,
             "#9c179e"
            ],
            [
             0.4444444444444444,
             "#bd3786"
            ],
            [
             0.5555555555555556,
             "#d8576b"
            ],
            [
             0.6666666666666666,
             "#ed7953"
            ],
            [
             0.7777777777777778,
             "#fb9f3a"
            ],
            [
             0.8888888888888888,
             "#fdca26"
            ],
            [
             1,
             "#f0f921"
            ]
           ],
           "sequentialminus": [
            [
             0,
             "#0d0887"
            ],
            [
             0.1111111111111111,
             "#46039f"
            ],
            [
             0.2222222222222222,
             "#7201a8"
            ],
            [
             0.3333333333333333,
             "#9c179e"
            ],
            [
             0.4444444444444444,
             "#bd3786"
            ],
            [
             0.5555555555555556,
             "#d8576b"
            ],
            [
             0.6666666666666666,
             "#ed7953"
            ],
            [
             0.7777777777777778,
             "#fb9f3a"
            ],
            [
             0.8888888888888888,
             "#fdca26"
            ],
            [
             1,
             "#f0f921"
            ]
           ]
          },
          "colorway": [
           "#636efa",
           "#EF553B",
           "#00cc96",
           "#ab63fa",
           "#FFA15A",
           "#19d3f3",
           "#FF6692",
           "#B6E880",
           "#FF97FF",
           "#FECB52"
          ],
          "font": {
           "color": "#2a3f5f"
          },
          "geo": {
           "bgcolor": "white",
           "lakecolor": "white",
           "landcolor": "#E5ECF6",
           "showlakes": true,
           "showland": true,
           "subunitcolor": "white"
          },
          "hoverlabel": {
           "align": "left"
          },
          "hovermode": "closest",
          "mapbox": {
           "style": "light"
          },
          "paper_bgcolor": "white",
          "plot_bgcolor": "#E5ECF6",
          "polar": {
           "angularaxis": {
            "gridcolor": "white",
            "linecolor": "white",
            "ticks": ""
           },
           "bgcolor": "#E5ECF6",
           "radialaxis": {
            "gridcolor": "white",
            "linecolor": "white",
            "ticks": ""
           }
          },
          "scene": {
           "xaxis": {
            "backgroundcolor": "#E5ECF6",
            "gridcolor": "white",
            "gridwidth": 2,
            "linecolor": "white",
            "showbackground": true,
            "ticks": "",
            "zerolinecolor": "white"
           },
           "yaxis": {
            "backgroundcolor": "#E5ECF6",
            "gridcolor": "white",
            "gridwidth": 2,
            "linecolor": "white",
            "showbackground": true,
            "ticks": "",
            "zerolinecolor": "white"
           },
           "zaxis": {
            "backgroundcolor": "#E5ECF6",
            "gridcolor": "white",
            "gridwidth": 2,
            "linecolor": "white",
            "showbackground": true,
            "ticks": "",
            "zerolinecolor": "white"
           }
          },
          "shapedefaults": {
           "line": {
            "color": "#2a3f5f"
           }
          },
          "ternary": {
           "aaxis": {
            "gridcolor": "white",
            "linecolor": "white",
            "ticks": ""
           },
           "baxis": {
            "gridcolor": "white",
            "linecolor": "white",
            "ticks": ""
           },
           "bgcolor": "#E5ECF6",
           "caxis": {
            "gridcolor": "white",
            "linecolor": "white",
            "ticks": ""
           }
          },
          "title": {
           "x": 0.05
          },
          "xaxis": {
           "automargin": true,
           "gridcolor": "white",
           "linecolor": "white",
           "ticks": "",
           "title": {
            "standoff": 15
           },
           "zerolinecolor": "white",
           "zerolinewidth": 2
          },
          "yaxis": {
           "automargin": true,
           "gridcolor": "white",
           "linecolor": "white",
           "ticks": "",
           "title": {
            "standoff": 15
           },
           "zerolinecolor": "white",
           "zerolinewidth": 2
          }
         }
        },
        "xaxis": {
         "anchor": "y",
         "domain": [
          0,
          1
         ],
         "title": {
          "text": "endroundreason"
         }
        },
        "yaxis": {
         "anchor": "x",
         "domain": [
          0,
          1
         ],
         "title": {
          "text": "haswon"
         }
        }
       }
      },
      "text/html": [
       "<div>                            <div id=\"ca8af09f-b2af-4009-a3b5-5bbe5c63584d\" class=\"plotly-graph-div\" style=\"height:525px; width:100%;\"></div>            <script type=\"text/javascript\">                require([\"plotly\"], function(Plotly) {                    window.PLOTLYENV=window.PLOTLYENV || {};                                    if (document.getElementById(\"ca8af09f-b2af-4009-a3b5-5bbe5c63584d\")) {                    Plotly.newPlot(                        \"ca8af09f-b2af-4009-a3b5-5bbe5c63584d\",                        [{\"alignmentgroup\":\"True\",\"hovertemplate\":\"winrole=Attacker<br>endroundreason=%{x}<br>haswon=%{y}<extra></extra>\",\"legendgroup\":\"Attacker\",\"marker\":{\"color\":\"#636efa\",\"pattern\":{\"shape\":\"\"}},\"name\":\"Attacker\",\"offsetgroup\":\"Attacker\",\"orientation\":\"v\",\"showlegend\":true,\"textposition\":\"auto\",\"x\":[\"DefendersEliminated\",\"BombDeactivated_OneBomb\",\"DefendersSurrendered\"],\"xaxis\":\"x\",\"y\":[4350,214,20],\"yaxis\":\"y\",\"type\":\"bar\"},{\"alignmentgroup\":\"True\",\"hovertemplate\":\"winrole=Defender<br>endroundreason=%{x}<br>haswon=%{y}<extra></extra>\",\"legendgroup\":\"Defender\",\"marker\":{\"color\":\"#EF553B\",\"pattern\":{\"shape\":\"\"}},\"name\":\"Defender\",\"offsetgroup\":\"Defender\",\"orientation\":\"v\",\"showlegend\":true,\"textposition\":\"auto\",\"x\":[\"AttackersEliminated\",\"BombExploded\",\"DefuserDeactivated\",\"AttackersSurrendered\",\"NoEnemies\"],\"xaxis\":\"x\",\"y\":[2905,669,591,26,4],\"yaxis\":\"y\",\"type\":\"bar\"}],                        {\"template\":{\"data\":{\"histogram2dcontour\":[{\"type\":\"histogram2dcontour\",\"colorbar\":{\"outlinewidth\":0,\"ticks\":\"\"},\"colorscale\":[[0.0,\"#0d0887\"],[0.1111111111111111,\"#46039f\"],[0.2222222222222222,\"#7201a8\"],[0.3333333333333333,\"#9c179e\"],[0.4444444444444444,\"#bd3786\"],[0.5555555555555556,\"#d8576b\"],[0.6666666666666666,\"#ed7953\"],[0.7777777777777778,\"#fb9f3a\"],[0.8888888888888888,\"#fdca26\"],[1.0,\"#f0f921\"]]}],\"choropleth\":[{\"type\":\"choropleth\",\"colorbar\":{\"outlinewidth\":0,\"ticks\":\"\"}}],\"histogram2d\":[{\"type\":\"histogram2d\",\"colorbar\":{\"outlinewidth\":0,\"ticks\":\"\"},\"colorscale\":[[0.0,\"#0d0887\"],[0.1111111111111111,\"#46039f\"],[0.2222222222222222,\"#7201a8\"],[0.3333333333333333,\"#9c179e\"],[0.4444444444444444,\"#bd3786\"],[0.5555555555555556,\"#d8576b\"],[0.6666666666666666,\"#ed7953\"],[0.7777777777777778,\"#fb9f3a\"],[0.8888888888888888,\"#fdca26\"],[1.0,\"#f0f921\"]]}],\"heatmap\":[{\"type\":\"heatmap\",\"colorbar\":{\"outlinewidth\":0,\"ticks\":\"\"},\"colorscale\":[[0.0,\"#0d0887\"],[0.1111111111111111,\"#46039f\"],[0.2222222222222222,\"#7201a8\"],[0.3333333333333333,\"#9c179e\"],[0.4444444444444444,\"#bd3786\"],[0.5555555555555556,\"#d8576b\"],[0.6666666666666666,\"#ed7953\"],[0.7777777777777778,\"#fb9f3a\"],[0.8888888888888888,\"#fdca26\"],[1.0,\"#f0f921\"]]}],\"heatmapgl\":[{\"type\":\"heatmapgl\",\"colorbar\":{\"outlinewidth\":0,\"ticks\":\"\"},\"colorscale\":[[0.0,\"#0d0887\"],[0.1111111111111111,\"#46039f\"],[0.2222222222222222,\"#7201a8\"],[0.3333333333333333,\"#9c179e\"],[0.4444444444444444,\"#bd3786\"],[0.5555555555555556,\"#d8576b\"],[0.6666666666666666,\"#ed7953\"],[0.7777777777777778,\"#fb9f3a\"],[0.8888888888888888,\"#fdca26\"],[1.0,\"#f0f921\"]]}],\"contourcarpet\":[{\"type\":\"contourcarpet\",\"colorbar\":{\"outlinewidth\":0,\"ticks\":\"\"}}],\"contour\":[{\"type\":\"contour\",\"colorbar\":{\"outlinewidth\":0,\"ticks\":\"\"},\"colorscale\":[[0.0,\"#0d0887\"],[0.1111111111111111,\"#46039f\"],[0.2222222222222222,\"#7201a8\"],[0.3333333333333333,\"#9c179e\"],[0.4444444444444444,\"#bd3786\"],[0.5555555555555556,\"#d8576b\"],[0.6666666666666666,\"#ed7953\"],[0.7777777777777778,\"#fb9f3a\"],[0.8888888888888888,\"#fdca26\"],[1.0,\"#f0f921\"]]}],\"surface\":[{\"type\":\"surface\",\"colorbar\":{\"outlinewidth\":0,\"ticks\":\"\"},\"colorscale\":[[0.0,\"#0d0887\"],[0.1111111111111111,\"#46039f\"],[0.2222222222222222,\"#7201a8\"],[0.3333333333333333,\"#9c179e\"],[0.4444444444444444,\"#bd3786\"],[0.5555555555555556,\"#d8576b\"],[0.6666666666666666,\"#ed7953\"],[0.7777777777777778,\"#fb9f3a\"],[0.8888888888888888,\"#fdca26\"],[1.0,\"#f0f921\"]]}],\"mesh3d\":[{\"type\":\"mesh3d\",\"colorbar\":{\"outlinewidth\":0,\"ticks\":\"\"}}],\"scatter\":[{\"fillpattern\":{\"fillmode\":\"overlay\",\"size\":10,\"solidity\":0.2},\"type\":\"scatter\"}],\"parcoords\":[{\"type\":\"parcoords\",\"line\":{\"colorbar\":{\"outlinewidth\":0,\"ticks\":\"\"}}}],\"scatterpolargl\":[{\"type\":\"scatterpolargl\",\"marker\":{\"colorbar\":{\"outlinewidth\":0,\"ticks\":\"\"}}}],\"bar\":[{\"error_x\":{\"color\":\"#2a3f5f\"},\"error_y\":{\"color\":\"#2a3f5f\"},\"marker\":{\"line\":{\"color\":\"#E5ECF6\",\"width\":0.5},\"pattern\":{\"fillmode\":\"overlay\",\"size\":10,\"solidity\":0.2}},\"type\":\"bar\"}],\"scattergeo\":[{\"type\":\"scattergeo\",\"marker\":{\"colorbar\":{\"outlinewidth\":0,\"ticks\":\"\"}}}],\"scatterpolar\":[{\"type\":\"scatterpolar\",\"marker\":{\"colorbar\":{\"outlinewidth\":0,\"ticks\":\"\"}}}],\"histogram\":[{\"marker\":{\"pattern\":{\"fillmode\":\"overlay\",\"size\":10,\"solidity\":0.2}},\"type\":\"histogram\"}],\"scattergl\":[{\"type\":\"scattergl\",\"marker\":{\"colorbar\":{\"outlinewidth\":0,\"ticks\":\"\"}}}],\"scatter3d\":[{\"type\":\"scatter3d\",\"line\":{\"colorbar\":{\"outlinewidth\":0,\"ticks\":\"\"}},\"marker\":{\"colorbar\":{\"outlinewidth\":0,\"ticks\":\"\"}}}],\"scattermapbox\":[{\"type\":\"scattermapbox\",\"marker\":{\"colorbar\":{\"outlinewidth\":0,\"ticks\":\"\"}}}],\"scatterternary\":[{\"type\":\"scatterternary\",\"marker\":{\"colorbar\":{\"outlinewidth\":0,\"ticks\":\"\"}}}],\"scattercarpet\":[{\"type\":\"scattercarpet\",\"marker\":{\"colorbar\":{\"outlinewidth\":0,\"ticks\":\"\"}}}],\"carpet\":[{\"aaxis\":{\"endlinecolor\":\"#2a3f5f\",\"gridcolor\":\"white\",\"linecolor\":\"white\",\"minorgridcolor\":\"white\",\"startlinecolor\":\"#2a3f5f\"},\"baxis\":{\"endlinecolor\":\"#2a3f5f\",\"gridcolor\":\"white\",\"linecolor\":\"white\",\"minorgridcolor\":\"white\",\"startlinecolor\":\"#2a3f5f\"},\"type\":\"carpet\"}],\"table\":[{\"cells\":{\"fill\":{\"color\":\"#EBF0F8\"},\"line\":{\"color\":\"white\"}},\"header\":{\"fill\":{\"color\":\"#C8D4E3\"},\"line\":{\"color\":\"white\"}},\"type\":\"table\"}],\"barpolar\":[{\"marker\":{\"line\":{\"color\":\"#E5ECF6\",\"width\":0.5},\"pattern\":{\"fillmode\":\"overlay\",\"size\":10,\"solidity\":0.2}},\"type\":\"barpolar\"}],\"pie\":[{\"automargin\":true,\"type\":\"pie\"}]},\"layout\":{\"autotypenumbers\":\"strict\",\"colorway\":[\"#636efa\",\"#EF553B\",\"#00cc96\",\"#ab63fa\",\"#FFA15A\",\"#19d3f3\",\"#FF6692\",\"#B6E880\",\"#FF97FF\",\"#FECB52\"],\"font\":{\"color\":\"#2a3f5f\"},\"hovermode\":\"closest\",\"hoverlabel\":{\"align\":\"left\"},\"paper_bgcolor\":\"white\",\"plot_bgcolor\":\"#E5ECF6\",\"polar\":{\"bgcolor\":\"#E5ECF6\",\"angularaxis\":{\"gridcolor\":\"white\",\"linecolor\":\"white\",\"ticks\":\"\"},\"radialaxis\":{\"gridcolor\":\"white\",\"linecolor\":\"white\",\"ticks\":\"\"}},\"ternary\":{\"bgcolor\":\"#E5ECF6\",\"aaxis\":{\"gridcolor\":\"white\",\"linecolor\":\"white\",\"ticks\":\"\"},\"baxis\":{\"gridcolor\":\"white\",\"linecolor\":\"white\",\"ticks\":\"\"},\"caxis\":{\"gridcolor\":\"white\",\"linecolor\":\"white\",\"ticks\":\"\"}},\"coloraxis\":{\"colorbar\":{\"outlinewidth\":0,\"ticks\":\"\"}},\"colorscale\":{\"sequential\":[[0.0,\"#0d0887\"],[0.1111111111111111,\"#46039f\"],[0.2222222222222222,\"#7201a8\"],[0.3333333333333333,\"#9c179e\"],[0.4444444444444444,\"#bd3786\"],[0.5555555555555556,\"#d8576b\"],[0.6666666666666666,\"#ed7953\"],[0.7777777777777778,\"#fb9f3a\"],[0.8888888888888888,\"#fdca26\"],[1.0,\"#f0f921\"]],\"sequentialminus\":[[0.0,\"#0d0887\"],[0.1111111111111111,\"#46039f\"],[0.2222222222222222,\"#7201a8\"],[0.3333333333333333,\"#9c179e\"],[0.4444444444444444,\"#bd3786\"],[0.5555555555555556,\"#d8576b\"],[0.6666666666666666,\"#ed7953\"],[0.7777777777777778,\"#fb9f3a\"],[0.8888888888888888,\"#fdca26\"],[1.0,\"#f0f921\"]],\"diverging\":[[0,\"#8e0152\"],[0.1,\"#c51b7d\"],[0.2,\"#de77ae\"],[0.3,\"#f1b6da\"],[0.4,\"#fde0ef\"],[0.5,\"#f7f7f7\"],[0.6,\"#e6f5d0\"],[0.7,\"#b8e186\"],[0.8,\"#7fbc41\"],[0.9,\"#4d9221\"],[1,\"#276419\"]]},\"xaxis\":{\"gridcolor\":\"white\",\"linecolor\":\"white\",\"ticks\":\"\",\"title\":{\"standoff\":15},\"zerolinecolor\":\"white\",\"automargin\":true,\"zerolinewidth\":2},\"yaxis\":{\"gridcolor\":\"white\",\"linecolor\":\"white\",\"ticks\":\"\",\"title\":{\"standoff\":15},\"zerolinecolor\":\"white\",\"automargin\":true,\"zerolinewidth\":2},\"scene\":{\"xaxis\":{\"backgroundcolor\":\"#E5ECF6\",\"gridcolor\":\"white\",\"linecolor\":\"white\",\"showbackground\":true,\"ticks\":\"\",\"zerolinecolor\":\"white\",\"gridwidth\":2},\"yaxis\":{\"backgroundcolor\":\"#E5ECF6\",\"gridcolor\":\"white\",\"linecolor\":\"white\",\"showbackground\":true,\"ticks\":\"\",\"zerolinecolor\":\"white\",\"gridwidth\":2},\"zaxis\":{\"backgroundcolor\":\"#E5ECF6\",\"gridcolor\":\"white\",\"linecolor\":\"white\",\"showbackground\":true,\"ticks\":\"\",\"zerolinecolor\":\"white\",\"gridwidth\":2}},\"shapedefaults\":{\"line\":{\"color\":\"#2a3f5f\"}},\"annotationdefaults\":{\"arrowcolor\":\"#2a3f5f\",\"arrowhead\":0,\"arrowwidth\":1},\"geo\":{\"bgcolor\":\"white\",\"landcolor\":\"#E5ECF6\",\"subunitcolor\":\"white\",\"showland\":true,\"showlakes\":true,\"lakecolor\":\"white\"},\"title\":{\"x\":0.05},\"mapbox\":{\"style\":\"light\"}}},\"xaxis\":{\"anchor\":\"y\",\"domain\":[0.0,1.0],\"title\":{\"text\":\"endroundreason\"}},\"yaxis\":{\"anchor\":\"x\",\"domain\":[0.0,1.0],\"title\":{\"text\":\"haswon\"}},\"legend\":{\"title\":{\"text\":\"winrole\"},\"tracegroupgap\":0},\"margin\":{\"t\":60},\"barmode\":\"group\"},                        {\"responsive\": true}                    ).then(function(){\n",
       "                            \n",
       "var gd = document.getElementById('ca8af09f-b2af-4009-a3b5-5bbe5c63584d');\n",
       "var x = new MutationObserver(function (mutations, observer) {{\n",
       "        var display = window.getComputedStyle(gd).display;\n",
       "        if (!display || display === 'none') {{\n",
       "            console.log([gd, 'removed!']);\n",
       "            Plotly.purge(gd);\n",
       "            observer.disconnect();\n",
       "        }}\n",
       "}});\n",
       "\n",
       "// Listen for the removal of the full notebook cells\n",
       "var notebookContainer = gd.closest('#notebook-container');\n",
       "if (notebookContainer) {{\n",
       "    x.observe(notebookContainer, {childList: true});\n",
       "}}\n",
       "\n",
       "// Listen for the clearing of the current output cell\n",
       "var outputEl = gd.closest('.output');\n",
       "if (outputEl) {{\n",
       "    x.observe(outputEl, {childList: true});\n",
       "}}\n",
       "\n",
       "                        })                };                });            </script>        </div>"
      ]
     },
     "metadata": {},
     "output_type": "display_data"
    }
   ],
   "source": [
    "fig = px.bar(df_bomb_CH, x = 'endroundreason', y = 'haswon', color = 'winrole', barmode = 'group')\n",
    "fig.show()"
   ]
  },
  {
   "cell_type": "markdown",
   "id": "609f6497",
   "metadata": {},
   "source": [
    "### PLANE"
   ]
  },
  {
   "cell_type": "code",
   "execution_count": 20,
   "id": "6f098526",
   "metadata": {},
   "outputs": [
    {
     "data": {
      "text/html": [
       "<div>\n",
       "<style scoped>\n",
       "    .dataframe tbody tr th:only-of-type {\n",
       "        vertical-align: middle;\n",
       "    }\n",
       "\n",
       "    .dataframe tbody tr th {\n",
       "        vertical-align: top;\n",
       "    }\n",
       "\n",
       "    .dataframe thead th {\n",
       "        text-align: right;\n",
       "    }\n",
       "</style>\n",
       "<table border=\"1\" class=\"dataframe\">\n",
       "  <thead>\n",
       "    <tr style=\"text-align: right;\">\n",
       "      <th></th>\n",
       "      <th>mapname</th>\n",
       "      <th>winrole</th>\n",
       "      <th>endroundreason</th>\n",
       "      <th>haswon</th>\n",
       "    </tr>\n",
       "  </thead>\n",
       "  <tbody>\n",
       "    <tr>\n",
       "      <th>110</th>\n",
       "      <td>PLANE</td>\n",
       "      <td>Defender</td>\n",
       "      <td>AttackersEliminated</td>\n",
       "      <td>3211</td>\n",
       "    </tr>\n",
       "    <tr>\n",
       "      <th>107</th>\n",
       "      <td>PLANE</td>\n",
       "      <td>Attacker</td>\n",
       "      <td>DefendersEliminated</td>\n",
       "      <td>3186</td>\n",
       "    </tr>\n",
       "    <tr>\n",
       "      <th>112</th>\n",
       "      <td>PLANE</td>\n",
       "      <td>Defender</td>\n",
       "      <td>BombExploded</td>\n",
       "      <td>545</td>\n",
       "    </tr>\n",
       "    <tr>\n",
       "      <th>113</th>\n",
       "      <td>PLANE</td>\n",
       "      <td>Defender</td>\n",
       "      <td>DefuserDeactivated</td>\n",
       "      <td>304</td>\n",
       "    </tr>\n",
       "    <tr>\n",
       "      <th>106</th>\n",
       "      <td>PLANE</td>\n",
       "      <td>Attacker</td>\n",
       "      <td>BombDeactivated_OneBomb</td>\n",
       "      <td>103</td>\n",
       "    </tr>\n",
       "    <tr>\n",
       "      <th>108</th>\n",
       "      <td>PLANE</td>\n",
       "      <td>Attacker</td>\n",
       "      <td>DefendersSurrendered</td>\n",
       "      <td>9</td>\n",
       "    </tr>\n",
       "    <tr>\n",
       "      <th>109</th>\n",
       "      <td>PLANE</td>\n",
       "      <td>Defender</td>\n",
       "      <td>AllTeamsDead</td>\n",
       "      <td>5</td>\n",
       "    </tr>\n",
       "    <tr>\n",
       "      <th>111</th>\n",
       "      <td>PLANE</td>\n",
       "      <td>Defender</td>\n",
       "      <td>AttackersSurrendered</td>\n",
       "      <td>4</td>\n",
       "    </tr>\n",
       "    <tr>\n",
       "      <th>114</th>\n",
       "      <td>PLANE</td>\n",
       "      <td>Defender</td>\n",
       "      <td>NoEnemies</td>\n",
       "      <td>2</td>\n",
       "    </tr>\n",
       "  </tbody>\n",
       "</table>\n",
       "</div>"
      ],
      "text/plain": [
       "    mapname   winrole           endroundreason  haswon\n",
       "110   PLANE  Defender      AttackersEliminated    3211\n",
       "107   PLANE  Attacker      DefendersEliminated    3186\n",
       "112   PLANE  Defender             BombExploded     545\n",
       "113   PLANE  Defender       DefuserDeactivated     304\n",
       "106   PLANE  Attacker  BombDeactivated_OneBomb     103\n",
       "108   PLANE  Attacker     DefendersSurrendered       9\n",
       "109   PLANE  Defender             AllTeamsDead       5\n",
       "111   PLANE  Defender     AttackersSurrendered       4\n",
       "114   PLANE  Defender                NoEnemies       2"
      ]
     },
     "execution_count": 20,
     "metadata": {},
     "output_type": "execute_result"
    }
   ],
   "source": [
    "df_bomb_plane = df_bomb[df_bomb['mapname'] == 'PLANE'].sort_values(\"haswon\", ascending = False)\n",
    "df_bomb_plane"
   ]
  },
  {
   "cell_type": "code",
   "execution_count": 67,
   "id": "b237fabe",
   "metadata": {},
   "outputs": [],
   "source": [
    "#fig = px.bar(df_bomb_plane, x = 'endroundreason', y = 'haswon', color = 'winrole', barmode = 'group')\n",
    "#fig.show()"
   ]
  },
  {
   "cell_type": "markdown",
   "id": "6bc3c934",
   "metadata": {},
   "source": [
    "### KANAL"
   ]
  },
  {
   "cell_type": "code",
   "execution_count": 22,
   "id": "9a23c41a",
   "metadata": {},
   "outputs": [
    {
     "data": {
      "text/html": [
       "<div>\n",
       "<style scoped>\n",
       "    .dataframe tbody tr th:only-of-type {\n",
       "        vertical-align: middle;\n",
       "    }\n",
       "\n",
       "    .dataframe tbody tr th {\n",
       "        vertical-align: top;\n",
       "    }\n",
       "\n",
       "    .dataframe thead th {\n",
       "        text-align: right;\n",
       "    }\n",
       "</style>\n",
       "<table border=\"1\" class=\"dataframe\">\n",
       "  <thead>\n",
       "    <tr style=\"text-align: right;\">\n",
       "      <th></th>\n",
       "      <th>mapname</th>\n",
       "      <th>winrole</th>\n",
       "      <th>endroundreason</th>\n",
       "      <th>haswon</th>\n",
       "    </tr>\n",
       "  </thead>\n",
       "  <tbody>\n",
       "    <tr>\n",
       "      <th>89</th>\n",
       "      <td>KANAL</td>\n",
       "      <td>Attacker</td>\n",
       "      <td>DefendersEliminated</td>\n",
       "      <td>4100</td>\n",
       "    </tr>\n",
       "    <tr>\n",
       "      <th>92</th>\n",
       "      <td>KANAL</td>\n",
       "      <td>Defender</td>\n",
       "      <td>AttackersEliminated</td>\n",
       "      <td>3173</td>\n",
       "    </tr>\n",
       "    <tr>\n",
       "      <th>94</th>\n",
       "      <td>KANAL</td>\n",
       "      <td>Defender</td>\n",
       "      <td>BombExploded</td>\n",
       "      <td>659</td>\n",
       "    </tr>\n",
       "    <tr>\n",
       "      <th>95</th>\n",
       "      <td>KANAL</td>\n",
       "      <td>Defender</td>\n",
       "      <td>DefuserDeactivated</td>\n",
       "      <td>497</td>\n",
       "    </tr>\n",
       "    <tr>\n",
       "      <th>88</th>\n",
       "      <td>KANAL</td>\n",
       "      <td>Attacker</td>\n",
       "      <td>BombDeactivated_OneBomb</td>\n",
       "      <td>72</td>\n",
       "    </tr>\n",
       "    <tr>\n",
       "      <th>93</th>\n",
       "      <td>KANAL</td>\n",
       "      <td>Defender</td>\n",
       "      <td>AttackersSurrendered</td>\n",
       "      <td>19</td>\n",
       "    </tr>\n",
       "    <tr>\n",
       "      <th>90</th>\n",
       "      <td>KANAL</td>\n",
       "      <td>Attacker</td>\n",
       "      <td>DefendersSurrendered</td>\n",
       "      <td>10</td>\n",
       "    </tr>\n",
       "    <tr>\n",
       "      <th>91</th>\n",
       "      <td>KANAL</td>\n",
       "      <td>Defender</td>\n",
       "      <td>AllTeamsDead</td>\n",
       "      <td>5</td>\n",
       "    </tr>\n",
       "    <tr>\n",
       "      <th>96</th>\n",
       "      <td>KANAL</td>\n",
       "      <td>Defender</td>\n",
       "      <td>NoEnemies</td>\n",
       "      <td>2</td>\n",
       "    </tr>\n",
       "  </tbody>\n",
       "</table>\n",
       "</div>"
      ],
      "text/plain": [
       "   mapname   winrole           endroundreason  haswon\n",
       "89   KANAL  Attacker      DefendersEliminated    4100\n",
       "92   KANAL  Defender      AttackersEliminated    3173\n",
       "94   KANAL  Defender             BombExploded     659\n",
       "95   KANAL  Defender       DefuserDeactivated     497\n",
       "88   KANAL  Attacker  BombDeactivated_OneBomb      72\n",
       "93   KANAL  Defender     AttackersSurrendered      19\n",
       "90   KANAL  Attacker     DefendersSurrendered      10\n",
       "91   KANAL  Defender             AllTeamsDead       5\n",
       "96   KANAL  Defender                NoEnemies       2"
      ]
     },
     "execution_count": 22,
     "metadata": {},
     "output_type": "execute_result"
    }
   ],
   "source": [
    "df_bomb_kanal = df_bomb[df_bomb['mapname'] == 'KANAL'].sort_values(\"haswon\", ascending = False)\n",
    "df_bomb_kanal"
   ]
  },
  {
   "cell_type": "code",
   "execution_count": 66,
   "id": "99011316",
   "metadata": {},
   "outputs": [],
   "source": [
    "#fig = px.bar(df_bomb_kanal, x = 'endroundreason', y = 'haswon', color = 'winrole', barmode = 'group')\n",
    "#fig.show()"
   ]
  },
  {
   "cell_type": "markdown",
   "id": "ffe97533",
   "metadata": {},
   "source": [
    "# Hostage mode"
   ]
  },
  {
   "cell_type": "code",
   "execution_count": 65,
   "id": "a4a16efa",
   "metadata": {},
   "outputs": [
    {
     "data": {
      "text/html": [
       "<div>\n",
       "<style scoped>\n",
       "    .dataframe tbody tr th:only-of-type {\n",
       "        vertical-align: middle;\n",
       "    }\n",
       "\n",
       "    .dataframe tbody tr th {\n",
       "        vertical-align: top;\n",
       "    }\n",
       "\n",
       "    .dataframe thead th {\n",
       "        text-align: right;\n",
       "    }\n",
       "</style>\n",
       "<table border=\"1\" class=\"dataframe\">\n",
       "  <thead>\n",
       "    <tr style=\"text-align: right;\">\n",
       "      <th></th>\n",
       "      <th>gamemode</th>\n",
       "      <th>mapname</th>\n",
       "      <th>objectivelocation</th>\n",
       "      <th>winrole</th>\n",
       "      <th>endroundreason</th>\n",
       "      <th>role</th>\n",
       "      <th>team</th>\n",
       "      <th>haswon</th>\n",
       "      <th>nbkills</th>\n",
       "      <th>isdead</th>\n",
       "    </tr>\n",
       "  </thead>\n",
       "  <tbody>\n",
       "    <tr>\n",
       "      <th>0</th>\n",
       "      <td>HOSTAGE</td>\n",
       "      <td>CLUB HOUSE</td>\n",
       "      <td>STRIP CLUB</td>\n",
       "      <td>Defender</td>\n",
       "      <td>AttackersKilledHostage</td>\n",
       "      <td>Defender</td>\n",
       "      <td>1</td>\n",
       "      <td>1</td>\n",
       "      <td>0</td>\n",
       "      <td>0</td>\n",
       "    </tr>\n",
       "    <tr>\n",
       "      <th>1</th>\n",
       "      <td>HOSTAGE</td>\n",
       "      <td>CLUB HOUSE</td>\n",
       "      <td>CHURCH</td>\n",
       "      <td>Defender</td>\n",
       "      <td>AttackersEliminated</td>\n",
       "      <td>Defender</td>\n",
       "      <td>0</td>\n",
       "      <td>1</td>\n",
       "      <td>0</td>\n",
       "      <td>1</td>\n",
       "    </tr>\n",
       "    <tr>\n",
       "      <th>2</th>\n",
       "      <td>HOSTAGE</td>\n",
       "      <td>CLUB HOUSE</td>\n",
       "      <td>CHURCH</td>\n",
       "      <td>Defender</td>\n",
       "      <td>AttackersEliminated</td>\n",
       "      <td>Defender</td>\n",
       "      <td>1</td>\n",
       "      <td>1</td>\n",
       "      <td>0</td>\n",
       "      <td>0</td>\n",
       "    </tr>\n",
       "    <tr>\n",
       "      <th>3</th>\n",
       "      <td>HOSTAGE</td>\n",
       "      <td>CLUB HOUSE</td>\n",
       "      <td>CHURCH</td>\n",
       "      <td>Defender</td>\n",
       "      <td>AttackersEliminated</td>\n",
       "      <td>Defender</td>\n",
       "      <td>0</td>\n",
       "      <td>1</td>\n",
       "      <td>3</td>\n",
       "      <td>0</td>\n",
       "    </tr>\n",
       "    <tr>\n",
       "      <th>4</th>\n",
       "      <td>HOSTAGE</td>\n",
       "      <td>CLUB HOUSE</td>\n",
       "      <td>BEDROOM</td>\n",
       "      <td>Attacker</td>\n",
       "      <td>DefendersEliminated</td>\n",
       "      <td>Defender</td>\n",
       "      <td>0</td>\n",
       "      <td>0</td>\n",
       "      <td>0</td>\n",
       "      <td>1</td>\n",
       "    </tr>\n",
       "  </tbody>\n",
       "</table>\n",
       "</div>"
      ],
      "text/plain": [
       "  gamemode     mapname objectivelocation   winrole          endroundreason  \\\n",
       "0  HOSTAGE  CLUB HOUSE        STRIP CLUB  Defender  AttackersKilledHostage   \n",
       "1  HOSTAGE  CLUB HOUSE            CHURCH  Defender     AttackersEliminated   \n",
       "2  HOSTAGE  CLUB HOUSE            CHURCH  Defender     AttackersEliminated   \n",
       "3  HOSTAGE  CLUB HOUSE            CHURCH  Defender     AttackersEliminated   \n",
       "4  HOSTAGE  CLUB HOUSE           BEDROOM  Attacker     DefendersEliminated   \n",
       "\n",
       "       role  team  haswon  nbkills  isdead  \n",
       "0  Defender     1       1        0       0  \n",
       "1  Defender     0       1        0       1  \n",
       "2  Defender     1       1        0       0  \n",
       "3  Defender     0       1        3       0  \n",
       "4  Defender     0       0        0       1  "
      ]
     },
     "execution_count": 65,
     "metadata": {},
     "output_type": "execute_result"
    }
   ],
   "source": [
    "# Filtering only the Hostage data\n",
    "df_hostage = df1[df['gamemode'] == 'HOSTAGE']\n",
    "df_hostage.head()"
   ]
  },
  {
   "cell_type": "code",
   "execution_count": 70,
   "id": "9fe99ee7",
   "metadata": {},
   "outputs": [],
   "source": [
    "df_hostage = df_hostage.groupby(['mapname','winrole','endroundreason'], as_index = False)['haswon'].sum()"
   ]
  },
  {
   "cell_type": "code",
   "execution_count": 71,
   "id": "808de455",
   "metadata": {},
   "outputs": [
    {
     "data": {
      "text/html": [
       "<div>\n",
       "<style scoped>\n",
       "    .dataframe tbody tr th:only-of-type {\n",
       "        vertical-align: middle;\n",
       "    }\n",
       "\n",
       "    .dataframe tbody tr th {\n",
       "        vertical-align: top;\n",
       "    }\n",
       "\n",
       "    .dataframe thead th {\n",
       "        text-align: right;\n",
       "    }\n",
       "</style>\n",
       "<table border=\"1\" class=\"dataframe\">\n",
       "  <thead>\n",
       "    <tr style=\"text-align: right;\">\n",
       "      <th></th>\n",
       "      <th>mapname</th>\n",
       "      <th>winrole</th>\n",
       "      <th>endroundreason</th>\n",
       "      <th>haswon</th>\n",
       "    </tr>\n",
       "  </thead>\n",
       "  <tbody>\n",
       "    <tr>\n",
       "      <th>51</th>\n",
       "      <td>CONSULATE</td>\n",
       "      <td>Defender</td>\n",
       "      <td>AttackersEliminated</td>\n",
       "      <td>1949</td>\n",
       "    </tr>\n",
       "    <tr>\n",
       "      <th>108</th>\n",
       "      <td>PLANE</td>\n",
       "      <td>Defender</td>\n",
       "      <td>AttackersEliminated</td>\n",
       "      <td>1871</td>\n",
       "    </tr>\n",
       "    <tr>\n",
       "      <th>3</th>\n",
       "      <td>BANK</td>\n",
       "      <td>Defender</td>\n",
       "      <td>AttackersEliminated</td>\n",
       "      <td>1869</td>\n",
       "    </tr>\n",
       "    <tr>\n",
       "      <th>12</th>\n",
       "      <td>BARTLETT U.</td>\n",
       "      <td>Defender</td>\n",
       "      <td>AttackersEliminated</td>\n",
       "      <td>1781</td>\n",
       "    </tr>\n",
       "    <tr>\n",
       "      <th>117</th>\n",
       "      <td>SKYSCRAPER</td>\n",
       "      <td>Defender</td>\n",
       "      <td>AttackersEliminated</td>\n",
       "      <td>1767</td>\n",
       "    </tr>\n",
       "  </tbody>\n",
       "</table>\n",
       "</div>"
      ],
      "text/plain": [
       "         mapname   winrole       endroundreason  haswon\n",
       "51     CONSULATE  Defender  AttackersEliminated    1949\n",
       "108        PLANE  Defender  AttackersEliminated    1871\n",
       "3           BANK  Defender  AttackersEliminated    1869\n",
       "12   BARTLETT U.  Defender  AttackersEliminated    1781\n",
       "117   SKYSCRAPER  Defender  AttackersEliminated    1767"
      ]
     },
     "execution_count": 71,
     "metadata": {},
     "output_type": "execute_result"
    }
   ],
   "source": [
    "df_hostage.sort_values('haswon',ascending = False).head()"
   ]
  },
  {
   "cell_type": "code",
   "execution_count": 72,
   "id": "a904681e",
   "metadata": {},
   "outputs": [
    {
     "data": {
      "image/png": "[encoded data removed]",
      "text/plain": [
       "<Figure size 864x504 with 2 Axes>"
      ]
     },
     "metadata": {
      "needs_background": "light"
     },
     "output_type": "display_data"
    },
    {
     "data": {
      "image/png": "[encoded data removed]",
      "text/plain": [
       "<Figure size 864x504 with 2 Axes>"
      ]
     },
     "metadata": {
      "needs_background": "light"
     },
     "output_type": "display_data"
    }
   ],
   "source": [
    "# Create the color\n",
    "cmap = sns.color_palette(\"flare\", as_cmap=True)\n",
    "ques_3_role_hostage = df_hostage.groupby('winrole')\n",
    "# plot the heat map\n",
    "for role, tbl in ques_3_role_hostage:\n",
    "    pivot = tbl.pivot(index='endroundreason', columns='mapname', values='haswon')\n",
    "    f, ax = plt.subplots(figsize=(12,7))\n",
    "    plt.title(role + ' Heatmap')\n",
    "    sns.heatmap(pivot, cmap=cmap, square=True, linewidths=.5, ax=ax)\n",
    "plt.show()"
   ]
  },
  {
   "cell_type": "code",
   "execution_count": 76,
   "id": "1076461f",
   "metadata": {},
   "outputs": [],
   "source": [
    "# Delete 'allteamsdead','Noenemies', attackers surrendered, Defenders surrenders\n",
    "\n",
    "out = ['AllTeamsDead','NoEnemies','AttackersSurrendered','DefendersSurrendered']\n",
    "df_hostage.drop(df_hostage[df_hostage.endroundreason == 'DefendersSurrendered'].index,inplace= True)"
   ]
  },
  {
   "cell_type": "code",
   "execution_count": 77,
   "id": "7b79c599",
   "metadata": {},
   "outputs": [
    {
     "data": {
      "image/png": "[encoded data removed]",
      "text/plain": [
       "<Figure size 864x504 with 2 Axes>"
      ]
     },
     "metadata": {
      "needs_background": "light"
     },
     "output_type": "display_data"
    },
    {
     "data": {
      "image/png": "[encoded data removed]",
      "text/plain": [
       "<Figure size 864x504 with 2 Axes>"
      ]
     },
     "metadata": {
      "needs_background": "light"
     },
     "output_type": "display_data"
    }
   ],
   "source": [
    "# Create the color\n",
    "cmap = sns.color_palette(\"flare\", as_cmap=True)\n",
    "ques_3_role_hostage = df_hostage.groupby('winrole')\n",
    "# plot the heat map\n",
    "for role, tbl in ques_3_role_hostage:\n",
    "    pivot = tbl.pivot(index='endroundreason', columns='mapname', values='haswon')\n",
    "    f, ax = plt.subplots(figsize=(12,7))\n",
    "    plt.title(role + ' Heatmap')\n",
    "    sns.heatmap(pivot, cmap=cmap, square=True, linewidths=.5, ax=ax)\n",
    "plt.show()"
   ]
  },
  {
   "cell_type": "code",
   "execution_count": 78,
   "id": "103be2c9",
   "metadata": {},
   "outputs": [
    {
     "data": {
      "image/png": "[encoded data removed]",
      "text/plain": [
       "<Figure size 864x504 with 2 Axes>"
      ]
     },
     "metadata": {
      "needs_background": "light"
     },
     "output_type": "display_data"
    }
   ],
   "source": [
    "pivot = df_hostage.pivot(index='endroundreason', columns='mapname', values='haswon')\n",
    "f, ax = plt.subplots(figsize=(12,7))\n",
    "plt.title(' Heatmap')\n",
    "sns.heatmap(pivot, cmap=cmap, square=True, linewidths=.5, ax=ax)\n",
    "plt.show()"
   ]
  },
  {
   "cell_type": "code",
   "execution_count": 79,
   "id": "b2643061",
   "metadata": {},
   "outputs": [
    {
     "data": {
      "text/html": [
       "<div>\n",
       "<style scoped>\n",
       "    .dataframe tbody tr th:only-of-type {\n",
       "        vertical-align: middle;\n",
       "    }\n",
       "\n",
       "    .dataframe tbody tr th {\n",
       "        vertical-align: top;\n",
       "    }\n",
       "\n",
       "    .dataframe thead th {\n",
       "        text-align: right;\n",
       "    }\n",
       "</style>\n",
       "<table border=\"1\" class=\"dataframe\">\n",
       "  <thead>\n",
       "    <tr style=\"text-align: right;\">\n",
       "      <th></th>\n",
       "      <th>mapname</th>\n",
       "      <th>winrole</th>\n",
       "      <th>endroundreason</th>\n",
       "      <th>haswon</th>\n",
       "    </tr>\n",
       "  </thead>\n",
       "  <tbody>\n",
       "    <tr>\n",
       "      <th>54</th>\n",
       "      <td>CONSULATE</td>\n",
       "      <td>Defender</td>\n",
       "      <td>TimeExpired</td>\n",
       "      <td>470</td>\n",
       "    </tr>\n",
       "    <tr>\n",
       "      <th>6</th>\n",
       "      <td>BANK</td>\n",
       "      <td>Defender</td>\n",
       "      <td>TimeExpired</td>\n",
       "      <td>460</td>\n",
       "    </tr>\n",
       "    <tr>\n",
       "      <th>58</th>\n",
       "      <td>FAVELAS</td>\n",
       "      <td>Attacker</td>\n",
       "      <td>HostageExtracted</td>\n",
       "      <td>448</td>\n",
       "    </tr>\n",
       "    <tr>\n",
       "      <th>111</th>\n",
       "      <td>PLANE</td>\n",
       "      <td>Defender</td>\n",
       "      <td>TimeExpired</td>\n",
       "      <td>418</td>\n",
       "    </tr>\n",
       "    <tr>\n",
       "      <th>39</th>\n",
       "      <td>CLUB HOUSE</td>\n",
       "      <td>Defender</td>\n",
       "      <td>TimeExpired</td>\n",
       "      <td>413</td>\n",
       "    </tr>\n",
       "  </tbody>\n",
       "</table>\n",
       "</div>"
      ],
      "text/plain": [
       "        mapname   winrole    endroundreason  haswon\n",
       "54    CONSULATE  Defender       TimeExpired     470\n",
       "6          BANK  Defender       TimeExpired     460\n",
       "58      FAVELAS  Attacker  HostageExtracted     448\n",
       "111       PLANE  Defender       TimeExpired     418\n",
       "39   CLUB HOUSE  Defender       TimeExpired     413"
      ]
     },
     "execution_count": 79,
     "metadata": {},
     "output_type": "execute_result"
    }
   ],
   "source": [
    "# Dropping attackers and defenders elimination reason\n",
    "df_hostage_without = df_hostage\n",
    "df_hostage_without.drop(df_hostage_without[df_hostage_without.endroundreason == 'AttackersEliminated'].index,inplace= True)\n",
    "df_hostage_without.drop(df_hostage_without[df_hostage_without.endroundreason == 'DefendersEliminated'].index,inplace= True)\n",
    "df_hostage_without.sort_values('haswon',ascending = False).head()"
   ]
  },
  {
   "cell_type": "code",
   "execution_count": 80,
   "id": "8551c897",
   "metadata": {},
   "outputs": [
    {
     "data": {
      "image/png": "[encoded data removed]",
      "text/plain": [
       "<Figure size 864x504 with 2 Axes>"
      ]
     },
     "metadata": {
      "needs_background": "light"
     },
     "output_type": "display_data"
    }
   ],
   "source": [
    "pivot = df_hostage_without.pivot(index='endroundreason', columns='mapname', values='haswon')\n",
    "f, ax = plt.subplots(figsize=(12,7))\n",
    "plt.title(' Heatmap')\n",
    "sns.heatmap(pivot, cmap=cmap, square=True, linewidths=.5, ax=ax)\n",
    "plt.show()"
   ]
  },
  {
   "cell_type": "markdown",
   "id": "719cd075",
   "metadata": {},
   "source": [
    "# Secure Area - Game Mode"
   ]
  },
  {
   "cell_type": "code",
   "execution_count": 10,
   "id": "58b1bd6a",
   "metadata": {},
   "outputs": [
    {
     "data": {
      "image/png": "[encoded data removed]",
      "text/plain": [
       "<Figure size 864x504 with 2 Axes>"
      ]
     },
     "metadata": {
      "needs_background": "light"
     },
     "output_type": "display_data"
    },
    {
     "data": {
      "image/png": "[encoded data removed]",
      "text/plain": [
       "<Figure size 864x504 with 2 Axes>"
      ]
     },
     "metadata": {
      "needs_background": "light"
     },
     "output_type": "display_data"
    }
   ],
   "source": [
    "# Filtering only the secure area\n",
    "df_secure = df1[df['gamemode'] == 'SECURE AREA']\n",
    "df_secure.head()\n",
    "df_secure = df_secure.groupby(['mapname','winrole','endroundreason'], as_index = False)['haswon'].sum()\n",
    "df_secure.sort_values('haswon',ascending = False).head()\n",
    "cmap = sns.color_palette(\"flare\", as_cmap=True)\n",
    "ques_3_role_secure = df_secure.groupby('winrole')\n",
    "# plotting the heat map\n",
    "for role, tbl in ques_3_role_secure:\n",
    "    pivot = tbl.pivot(index='endroundreason', columns='mapname', values='haswon')\n",
    "    f, ax = plt.subplots(figsize=(12,7))\n",
    "    plt.title(role + ' Heatmap')\n",
    "    sns.heatmap(pivot, cmap=cmap, square=True, linewidths=.5, ax=ax)\n",
    "plt.show()"
   ]
  },
  {
   "cell_type": "code",
   "execution_count": 24,
   "id": "58be6497",
   "metadata": {},
   "outputs": [
    {
     "data": {
      "image/png": "[encoded data removed]",
      "text/plain": [
       "<Figure size 864x504 with 2 Axes>"
      ]
     },
     "metadata": {
      "needs_background": "light"
     },
     "output_type": "display_data"
    }
   ],
   "source": [
    "pivot = df_secure.pivot(index='endroundreason', columns='mapname', values='haswon')\n",
    "f, ax = plt.subplots(figsize=(12,7))\n",
    "plt.title(' Heatmap')\n",
    "sns.heatmap(pivot, cmap=cmap, square=True, linewidths=.5, ax=ax)\n",
    "plt.show()"
   ]
  },
  {
   "cell_type": "code",
   "execution_count": 11,
   "id": "999b3bf7",
   "metadata": {},
   "outputs": [
    {
     "data": {
      "text/html": [
       "<div>\n",
       "<style scoped>\n",
       "    .dataframe tbody tr th:only-of-type {\n",
       "        vertical-align: middle;\n",
       "    }\n",
       "\n",
       "    .dataframe tbody tr th {\n",
       "        vertical-align: top;\n",
       "    }\n",
       "\n",
       "    .dataframe thead th {\n",
       "        text-align: right;\n",
       "    }\n",
       "</style>\n",
       "<table border=\"1\" class=\"dataframe\">\n",
       "  <thead>\n",
       "    <tr style=\"text-align: right;\">\n",
       "      <th></th>\n",
       "      <th>mapname</th>\n",
       "      <th>winrole</th>\n",
       "      <th>endroundreason</th>\n",
       "      <th>haswon</th>\n",
       "    </tr>\n",
       "  </thead>\n",
       "  <tbody>\n",
       "    <tr>\n",
       "      <th>15</th>\n",
       "      <td>BARTLETT U.</td>\n",
       "      <td>Defender</td>\n",
       "      <td>ObjectiveProtected</td>\n",
       "      <td>2103</td>\n",
       "    </tr>\n",
       "    <tr>\n",
       "      <th>7</th>\n",
       "      <td>BANK</td>\n",
       "      <td>Defender</td>\n",
       "      <td>ObjectiveProtected</td>\n",
       "      <td>1931</td>\n",
       "    </tr>\n",
       "    <tr>\n",
       "      <th>39</th>\n",
       "      <td>CLUB HOUSE</td>\n",
       "      <td>Defender</td>\n",
       "      <td>ObjectiveProtected</td>\n",
       "      <td>1751</td>\n",
       "    </tr>\n",
       "    <tr>\n",
       "      <th>93</th>\n",
       "      <td>KANAL</td>\n",
       "      <td>Defender</td>\n",
       "      <td>ObjectiveProtected</td>\n",
       "      <td>1701</td>\n",
       "    </tr>\n",
       "    <tr>\n",
       "      <th>55</th>\n",
       "      <td>CONSULATE</td>\n",
       "      <td>Defender</td>\n",
       "      <td>ObjectiveProtected</td>\n",
       "      <td>1644</td>\n",
       "    </tr>\n",
       "    <tr>\n",
       "      <th>...</th>\n",
       "      <td>...</td>\n",
       "      <td>...</td>\n",
       "      <td>...</td>\n",
       "      <td>...</td>\n",
       "    </tr>\n",
       "    <tr>\n",
       "      <th>45</th>\n",
       "      <td>COASTLINE</td>\n",
       "      <td>Defender</td>\n",
       "      <td>AttackersSurrendered</td>\n",
       "      <td>4</td>\n",
       "    </tr>\n",
       "    <tr>\n",
       "      <th>14</th>\n",
       "      <td>BARTLETT U.</td>\n",
       "      <td>Defender</td>\n",
       "      <td>NoEnemies</td>\n",
       "      <td>4</td>\n",
       "    </tr>\n",
       "    <tr>\n",
       "      <th>77</th>\n",
       "      <td>HOUSE</td>\n",
       "      <td>Defender</td>\n",
       "      <td>NoEnemies</td>\n",
       "      <td>3</td>\n",
       "    </tr>\n",
       "    <tr>\n",
       "      <th>30</th>\n",
       "      <td>CHALET</td>\n",
       "      <td>Defender</td>\n",
       "      <td>NoEnemies</td>\n",
       "      <td>3</td>\n",
       "    </tr>\n",
       "    <tr>\n",
       "      <th>108</th>\n",
       "      <td>PLANE</td>\n",
       "      <td>Defender</td>\n",
       "      <td>NoEnemies</td>\n",
       "      <td>1</td>\n",
       "    </tr>\n",
       "  </tbody>\n",
       "</table>\n",
       "<p>94 rows × 4 columns</p>\n",
       "</div>"
      ],
      "text/plain": [
       "         mapname   winrole        endroundreason  haswon\n",
       "15   BARTLETT U.  Defender    ObjectiveProtected    2103\n",
       "7           BANK  Defender    ObjectiveProtected    1931\n",
       "39    CLUB HOUSE  Defender    ObjectiveProtected    1751\n",
       "93         KANAL  Defender    ObjectiveProtected    1701\n",
       "55     CONSULATE  Defender    ObjectiveProtected    1644\n",
       "..           ...       ...                   ...     ...\n",
       "45     COASTLINE  Defender  AttackersSurrendered       4\n",
       "14   BARTLETT U.  Defender             NoEnemies       4\n",
       "77         HOUSE  Defender             NoEnemies       3\n",
       "30        CHALET  Defender             NoEnemies       3\n",
       "108        PLANE  Defender             NoEnemies       1\n",
       "\n",
       "[94 rows x 4 columns]"
      ]
     },
     "execution_count": 11,
     "metadata": {},
     "output_type": "execute_result"
    }
   ],
   "source": [
    "# Dropping attackers and defenders elimination reason\n",
    "df_secure_without = df_secure\n",
    "df_secure_without.drop(df_secure_without[df_secure_without.endroundreason == 'AttackersEliminated'].index,inplace= True)\n",
    "df_secure_without.drop(df_secure_without[df_secure_without.endroundreason == 'DefendersEliminated'].index,inplace= True)\n",
    "df_secure_without.sort_values('haswon',ascending = False)"
   ]
  },
  {
   "cell_type": "code",
   "execution_count": 84,
   "id": "50acf415",
   "metadata": {},
   "outputs": [
    {
     "data": {
      "image/png": "[encoded data removed]",
      "text/plain": [
       "<Figure size 864x504 with 2 Axes>"
      ]
     },
     "metadata": {
      "needs_background": "light"
     },
     "output_type": "display_data"
    }
   ],
   "source": [
    "pivot = df_secure_without.pivot(index='endroundreason', columns='mapname', values='haswon')\n",
    "f, ax = plt.subplots(figsize=(12,7))\n",
    "plt.title(' Heatmap')\n",
    "sns.heatmap(pivot, cmap=cmap, square=True, linewidths=.5, ax=ax)\n",
    "plt.show()"
   ]
  },
  {
   "cell_type": "code",
   "execution_count": 12,
   "id": "5580249f",
   "metadata": {},
   "outputs": [],
   "source": [
    "df_secure_without_1 = df_secure_without[df_secure_without['endroundreason'].isin([\"ObjectiveCaptured\",\"ObjectiveProtected\"])]"
   ]
  },
  {
   "cell_type": "code",
   "execution_count": 13,
   "id": "c64b70cf",
   "metadata": {},
   "outputs": [
    {
     "data": {
      "text/html": [
       "<div>\n",
       "<style scoped>\n",
       "    .dataframe tbody tr th:only-of-type {\n",
       "        vertical-align: middle;\n",
       "    }\n",
       "\n",
       "    .dataframe tbody tr th {\n",
       "        vertical-align: top;\n",
       "    }\n",
       "\n",
       "    .dataframe thead th {\n",
       "        text-align: right;\n",
       "    }\n",
       "</style>\n",
       "<table border=\"1\" class=\"dataframe\">\n",
       "  <thead>\n",
       "    <tr style=\"text-align: right;\">\n",
       "      <th></th>\n",
       "      <th>mapname</th>\n",
       "      <th>winrole</th>\n",
       "      <th>endroundreason</th>\n",
       "      <th>haswon</th>\n",
       "    </tr>\n",
       "  </thead>\n",
       "  <tbody>\n",
       "    <tr>\n",
       "      <th>2</th>\n",
       "      <td>BANK</td>\n",
       "      <td>Attacker</td>\n",
       "      <td>ObjectiveCaptured</td>\n",
       "      <td>1081</td>\n",
       "    </tr>\n",
       "    <tr>\n",
       "      <th>7</th>\n",
       "      <td>BANK</td>\n",
       "      <td>Defender</td>\n",
       "      <td>ObjectiveProtected</td>\n",
       "      <td>1931</td>\n",
       "    </tr>\n",
       "    <tr>\n",
       "      <th>10</th>\n",
       "      <td>BARTLETT U.</td>\n",
       "      <td>Attacker</td>\n",
       "      <td>ObjectiveCaptured</td>\n",
       "      <td>943</td>\n",
       "    </tr>\n",
       "    <tr>\n",
       "      <th>15</th>\n",
       "      <td>BARTLETT U.</td>\n",
       "      <td>Defender</td>\n",
       "      <td>ObjectiveProtected</td>\n",
       "      <td>2103</td>\n",
       "    </tr>\n",
       "    <tr>\n",
       "      <th>18</th>\n",
       "      <td>BORDER</td>\n",
       "      <td>Attacker</td>\n",
       "      <td>ObjectiveCaptured</td>\n",
       "      <td>545</td>\n",
       "    </tr>\n",
       "    <tr>\n",
       "      <th>23</th>\n",
       "      <td>BORDER</td>\n",
       "      <td>Defender</td>\n",
       "      <td>ObjectiveProtected</td>\n",
       "      <td>1426</td>\n",
       "    </tr>\n",
       "    <tr>\n",
       "      <th>26</th>\n",
       "      <td>CHALET</td>\n",
       "      <td>Attacker</td>\n",
       "      <td>ObjectiveCaptured</td>\n",
       "      <td>1394</td>\n",
       "    </tr>\n",
       "    <tr>\n",
       "      <th>31</th>\n",
       "      <td>CHALET</td>\n",
       "      <td>Defender</td>\n",
       "      <td>ObjectiveProtected</td>\n",
       "      <td>1051</td>\n",
       "    </tr>\n",
       "    <tr>\n",
       "      <th>34</th>\n",
       "      <td>CLUB HOUSE</td>\n",
       "      <td>Attacker</td>\n",
       "      <td>ObjectiveCaptured</td>\n",
       "      <td>811</td>\n",
       "    </tr>\n",
       "    <tr>\n",
       "      <th>39</th>\n",
       "      <td>CLUB HOUSE</td>\n",
       "      <td>Defender</td>\n",
       "      <td>ObjectiveProtected</td>\n",
       "      <td>1751</td>\n",
       "    </tr>\n",
       "    <tr>\n",
       "      <th>42</th>\n",
       "      <td>COASTLINE</td>\n",
       "      <td>Attacker</td>\n",
       "      <td>ObjectiveCaptured</td>\n",
       "      <td>811</td>\n",
       "    </tr>\n",
       "    <tr>\n",
       "      <th>47</th>\n",
       "      <td>COASTLINE</td>\n",
       "      <td>Defender</td>\n",
       "      <td>ObjectiveProtected</td>\n",
       "      <td>1002</td>\n",
       "    </tr>\n",
       "    <tr>\n",
       "      <th>50</th>\n",
       "      <td>CONSULATE</td>\n",
       "      <td>Attacker</td>\n",
       "      <td>ObjectiveCaptured</td>\n",
       "      <td>732</td>\n",
       "    </tr>\n",
       "    <tr>\n",
       "      <th>55</th>\n",
       "      <td>CONSULATE</td>\n",
       "      <td>Defender</td>\n",
       "      <td>ObjectiveProtected</td>\n",
       "      <td>1644</td>\n",
       "    </tr>\n",
       "    <tr>\n",
       "      <th>58</th>\n",
       "      <td>FAVELAS</td>\n",
       "      <td>Attacker</td>\n",
       "      <td>ObjectiveCaptured</td>\n",
       "      <td>1299</td>\n",
       "    </tr>\n",
       "    <tr>\n",
       "      <th>63</th>\n",
       "      <td>FAVELAS</td>\n",
       "      <td>Defender</td>\n",
       "      <td>ObjectiveProtected</td>\n",
       "      <td>840</td>\n",
       "    </tr>\n",
       "    <tr>\n",
       "      <th>66</th>\n",
       "      <td>HEREFORD BASE</td>\n",
       "      <td>Attacker</td>\n",
       "      <td>ObjectiveCaptured</td>\n",
       "      <td>663</td>\n",
       "    </tr>\n",
       "    <tr>\n",
       "      <th>70</th>\n",
       "      <td>HEREFORD BASE</td>\n",
       "      <td>Defender</td>\n",
       "      <td>ObjectiveProtected</td>\n",
       "      <td>1469</td>\n",
       "    </tr>\n",
       "    <tr>\n",
       "      <th>73</th>\n",
       "      <td>HOUSE</td>\n",
       "      <td>Attacker</td>\n",
       "      <td>ObjectiveCaptured</td>\n",
       "      <td>1177</td>\n",
       "    </tr>\n",
       "    <tr>\n",
       "      <th>78</th>\n",
       "      <td>HOUSE</td>\n",
       "      <td>Defender</td>\n",
       "      <td>ObjectiveProtected</td>\n",
       "      <td>1594</td>\n",
       "    </tr>\n",
       "    <tr>\n",
       "      <th>81</th>\n",
       "      <td>KAFE DOSTOYEVSKY</td>\n",
       "      <td>Attacker</td>\n",
       "      <td>ObjectiveCaptured</td>\n",
       "      <td>732</td>\n",
       "    </tr>\n",
       "    <tr>\n",
       "      <th>85</th>\n",
       "      <td>KAFE DOSTOYEVSKY</td>\n",
       "      <td>Defender</td>\n",
       "      <td>ObjectiveProtected</td>\n",
       "      <td>1473</td>\n",
       "    </tr>\n",
       "    <tr>\n",
       "      <th>88</th>\n",
       "      <td>KANAL</td>\n",
       "      <td>Attacker</td>\n",
       "      <td>ObjectiveCaptured</td>\n",
       "      <td>1165</td>\n",
       "    </tr>\n",
       "    <tr>\n",
       "      <th>93</th>\n",
       "      <td>KANAL</td>\n",
       "      <td>Defender</td>\n",
       "      <td>ObjectiveProtected</td>\n",
       "      <td>1701</td>\n",
       "    </tr>\n",
       "    <tr>\n",
       "      <th>96</th>\n",
       "      <td>OREGON</td>\n",
       "      <td>Attacker</td>\n",
       "      <td>ObjectiveCaptured</td>\n",
       "      <td>1087</td>\n",
       "    </tr>\n",
       "    <tr>\n",
       "      <th>101</th>\n",
       "      <td>OREGON</td>\n",
       "      <td>Defender</td>\n",
       "      <td>ObjectiveProtected</td>\n",
       "      <td>1569</td>\n",
       "    </tr>\n",
       "    <tr>\n",
       "      <th>104</th>\n",
       "      <td>PLANE</td>\n",
       "      <td>Attacker</td>\n",
       "      <td>ObjectiveCaptured</td>\n",
       "      <td>716</td>\n",
       "    </tr>\n",
       "    <tr>\n",
       "      <th>109</th>\n",
       "      <td>PLANE</td>\n",
       "      <td>Defender</td>\n",
       "      <td>ObjectiveProtected</td>\n",
       "      <td>1606</td>\n",
       "    </tr>\n",
       "    <tr>\n",
       "      <th>112</th>\n",
       "      <td>SKYSCRAPER</td>\n",
       "      <td>Attacker</td>\n",
       "      <td>ObjectiveCaptured</td>\n",
       "      <td>927</td>\n",
       "    </tr>\n",
       "    <tr>\n",
       "      <th>117</th>\n",
       "      <td>SKYSCRAPER</td>\n",
       "      <td>Defender</td>\n",
       "      <td>ObjectiveProtected</td>\n",
       "      <td>858</td>\n",
       "    </tr>\n",
       "    <tr>\n",
       "      <th>120</th>\n",
       "      <td>YACHT</td>\n",
       "      <td>Attacker</td>\n",
       "      <td>ObjectiveCaptured</td>\n",
       "      <td>882</td>\n",
       "    </tr>\n",
       "    <tr>\n",
       "      <th>125</th>\n",
       "      <td>YACHT</td>\n",
       "      <td>Defender</td>\n",
       "      <td>ObjectiveProtected</td>\n",
       "      <td>1107</td>\n",
       "    </tr>\n",
       "  </tbody>\n",
       "</table>\n",
       "</div>"
      ],
      "text/plain": [
       "              mapname   winrole      endroundreason  haswon\n",
       "2                BANK  Attacker   ObjectiveCaptured    1081\n",
       "7                BANK  Defender  ObjectiveProtected    1931\n",
       "10        BARTLETT U.  Attacker   ObjectiveCaptured     943\n",
       "15        BARTLETT U.  Defender  ObjectiveProtected    2103\n",
       "18             BORDER  Attacker   ObjectiveCaptured     545\n",
       "23             BORDER  Defender  ObjectiveProtected    1426\n",
       "26             CHALET  Attacker   ObjectiveCaptured    1394\n",
       "31             CHALET  Defender  ObjectiveProtected    1051\n",
       "34         CLUB HOUSE  Attacker   ObjectiveCaptured     811\n",
       "39         CLUB HOUSE  Defender  ObjectiveProtected    1751\n",
       "42          COASTLINE  Attacker   ObjectiveCaptured     811\n",
       "47          COASTLINE  Defender  ObjectiveProtected    1002\n",
       "50          CONSULATE  Attacker   ObjectiveCaptured     732\n",
       "55          CONSULATE  Defender  ObjectiveProtected    1644\n",
       "58            FAVELAS  Attacker   ObjectiveCaptured    1299\n",
       "63            FAVELAS  Defender  ObjectiveProtected     840\n",
       "66      HEREFORD BASE  Attacker   ObjectiveCaptured     663\n",
       "70      HEREFORD BASE  Defender  ObjectiveProtected    1469\n",
       "73              HOUSE  Attacker   ObjectiveCaptured    1177\n",
       "78              HOUSE  Defender  ObjectiveProtected    1594\n",
       "81   KAFE DOSTOYEVSKY  Attacker   ObjectiveCaptured     732\n",
       "85   KAFE DOSTOYEVSKY  Defender  ObjectiveProtected    1473\n",
       "88              KANAL  Attacker   ObjectiveCaptured    1165\n",
       "93              KANAL  Defender  ObjectiveProtected    1701\n",
       "96             OREGON  Attacker   ObjectiveCaptured    1087\n",
       "101            OREGON  Defender  ObjectiveProtected    1569\n",
       "104             PLANE  Attacker   ObjectiveCaptured     716\n",
       "109             PLANE  Defender  ObjectiveProtected    1606\n",
       "112        SKYSCRAPER  Attacker   ObjectiveCaptured     927\n",
       "117        SKYSCRAPER  Defender  ObjectiveProtected     858\n",
       "120             YACHT  Attacker   ObjectiveCaptured     882\n",
       "125             YACHT  Defender  ObjectiveProtected    1107"
      ]
     },
     "execution_count": 13,
     "metadata": {},
     "output_type": "execute_result"
    }
   ],
   "source": [
    "df_secure_without_1"
   ]
  },
  {
   "cell_type": "code",
   "execution_count": 16,
   "id": "aa084ac1",
   "metadata": {},
   "outputs": [
    {
     "data": {
      "text/html": [
       "<div>\n",
       "<style scoped>\n",
       "    .dataframe tbody tr th:only-of-type {\n",
       "        vertical-align: middle;\n",
       "    }\n",
       "\n",
       "    .dataframe tbody tr th {\n",
       "        vertical-align: top;\n",
       "    }\n",
       "\n",
       "    .dataframe thead th {\n",
       "        text-align: right;\n",
       "    }\n",
       "</style>\n",
       "<table border=\"1\" class=\"dataframe\">\n",
       "  <thead>\n",
       "    <tr style=\"text-align: right;\">\n",
       "      <th>endroundreason</th>\n",
       "      <th>ObjectiveCaptured</th>\n",
       "      <th>ObjectiveProtected</th>\n",
       "    </tr>\n",
       "    <tr>\n",
       "      <th>mapname</th>\n",
       "      <th></th>\n",
       "      <th></th>\n",
       "    </tr>\n",
       "  </thead>\n",
       "  <tbody>\n",
       "    <tr>\n",
       "      <th>BANK</th>\n",
       "      <td>1081</td>\n",
       "      <td>1931</td>\n",
       "    </tr>\n",
       "    <tr>\n",
       "      <th>BARTLETT U.</th>\n",
       "      <td>943</td>\n",
       "      <td>2103</td>\n",
       "    </tr>\n",
       "    <tr>\n",
       "      <th>BORDER</th>\n",
       "      <td>545</td>\n",
       "      <td>1426</td>\n",
       "    </tr>\n",
       "    <tr>\n",
       "      <th>CHALET</th>\n",
       "      <td>1394</td>\n",
       "      <td>1051</td>\n",
       "    </tr>\n",
       "    <tr>\n",
       "      <th>CLUB HOUSE</th>\n",
       "      <td>811</td>\n",
       "      <td>1751</td>\n",
       "    </tr>\n",
       "  </tbody>\n",
       "</table>\n",
       "</div>"
      ],
      "text/plain": [
       "endroundreason  ObjectiveCaptured  ObjectiveProtected\n",
       "mapname                                              \n",
       "BANK                         1081                1931\n",
       "BARTLETT U.                   943                2103\n",
       "BORDER                        545                1426\n",
       "CHALET                       1394                1051\n",
       "CLUB HOUSE                    811                1751"
      ]
     },
     "execution_count": 16,
     "metadata": {},
     "output_type": "execute_result"
    }
   ],
   "source": [
    "df3 = df_secure_without_1.pivot_table('haswon', ['mapname'], 'endroundreason')\n",
    "df3.head()"
   ]
  },
  {
   "cell_type": "code",
   "execution_count": 18,
   "id": "7379a4b8",
   "metadata": {},
   "outputs": [
    {
     "data": {
      "text/html": [
       "<div>\n",
       "<style scoped>\n",
       "    .dataframe tbody tr th:only-of-type {\n",
       "        vertical-align: middle;\n",
       "    }\n",
       "\n",
       "    .dataframe tbody tr th {\n",
       "        vertical-align: top;\n",
       "    }\n",
       "\n",
       "    .dataframe thead th {\n",
       "        text-align: right;\n",
       "    }\n",
       "</style>\n",
       "<table border=\"1\" class=\"dataframe\">\n",
       "  <thead>\n",
       "    <tr style=\"text-align: right;\">\n",
       "      <th>endroundreason</th>\n",
       "      <th>ObjectiveCaptured(Attacker win)</th>\n",
       "      <th>ObjectiveProtected(Defender win)</th>\n",
       "    </tr>\n",
       "    <tr>\n",
       "      <th>mapname</th>\n",
       "      <th></th>\n",
       "      <th></th>\n",
       "    </tr>\n",
       "  </thead>\n",
       "  <tbody>\n",
       "    <tr>\n",
       "      <th>BANK</th>\n",
       "      <td>1081</td>\n",
       "      <td>1931</td>\n",
       "    </tr>\n",
       "    <tr>\n",
       "      <th>BARTLETT U.</th>\n",
       "      <td>943</td>\n",
       "      <td>2103</td>\n",
       "    </tr>\n",
       "    <tr>\n",
       "      <th>BORDER</th>\n",
       "      <td>545</td>\n",
       "      <td>1426</td>\n",
       "    </tr>\n",
       "    <tr>\n",
       "      <th>CHALET</th>\n",
       "      <td>1394</td>\n",
       "      <td>1051</td>\n",
       "    </tr>\n",
       "    <tr>\n",
       "      <th>CLUB HOUSE</th>\n",
       "      <td>811</td>\n",
       "      <td>1751</td>\n",
       "    </tr>\n",
       "    <tr>\n",
       "      <th>COASTLINE</th>\n",
       "      <td>811</td>\n",
       "      <td>1002</td>\n",
       "    </tr>\n",
       "    <tr>\n",
       "      <th>CONSULATE</th>\n",
       "      <td>732</td>\n",
       "      <td>1644</td>\n",
       "    </tr>\n",
       "    <tr>\n",
       "      <th>FAVELAS</th>\n",
       "      <td>1299</td>\n",
       "      <td>840</td>\n",
       "    </tr>\n",
       "    <tr>\n",
       "      <th>HEREFORD BASE</th>\n",
       "      <td>663</td>\n",
       "      <td>1469</td>\n",
       "    </tr>\n",
       "    <tr>\n",
       "      <th>HOUSE</th>\n",
       "      <td>1177</td>\n",
       "      <td>1594</td>\n",
       "    </tr>\n",
       "    <tr>\n",
       "      <th>KAFE DOSTOYEVSKY</th>\n",
       "      <td>732</td>\n",
       "      <td>1473</td>\n",
       "    </tr>\n",
       "    <tr>\n",
       "      <th>KANAL</th>\n",
       "      <td>1165</td>\n",
       "      <td>1701</td>\n",
       "    </tr>\n",
       "    <tr>\n",
       "      <th>OREGON</th>\n",
       "      <td>1087</td>\n",
       "      <td>1569</td>\n",
       "    </tr>\n",
       "    <tr>\n",
       "      <th>PLANE</th>\n",
       "      <td>716</td>\n",
       "      <td>1606</td>\n",
       "    </tr>\n",
       "    <tr>\n",
       "      <th>SKYSCRAPER</th>\n",
       "      <td>927</td>\n",
       "      <td>858</td>\n",
       "    </tr>\n",
       "    <tr>\n",
       "      <th>YACHT</th>\n",
       "      <td>882</td>\n",
       "      <td>1107</td>\n",
       "    </tr>\n",
       "  </tbody>\n",
       "</table>\n",
       "</div>"
      ],
      "text/plain": [
       "endroundreason    ObjectiveCaptured(Attacker win)  \\\n",
       "mapname                                             \n",
       "BANK                                         1081   \n",
       "BARTLETT U.                                   943   \n",
       "BORDER                                        545   \n",
       "CHALET                                       1394   \n",
       "CLUB HOUSE                                    811   \n",
       "COASTLINE                                     811   \n",
       "CONSULATE                                     732   \n",
       "FAVELAS                                      1299   \n",
       "HEREFORD BASE                                 663   \n",
       "HOUSE                                        1177   \n",
       "KAFE DOSTOYEVSKY                              732   \n",
       "KANAL                                        1165   \n",
       "OREGON                                       1087   \n",
       "PLANE                                         716   \n",
       "SKYSCRAPER                                    927   \n",
       "YACHT                                         882   \n",
       "\n",
       "endroundreason    ObjectiveProtected(Defender win)  \n",
       "mapname                                             \n",
       "BANK                                          1931  \n",
       "BARTLETT U.                                   2103  \n",
       "BORDER                                        1426  \n",
       "CHALET                                        1051  \n",
       "CLUB HOUSE                                    1751  \n",
       "COASTLINE                                     1002  \n",
       "CONSULATE                                     1644  \n",
       "FAVELAS                                        840  \n",
       "HEREFORD BASE                                 1469  \n",
       "HOUSE                                         1594  \n",
       "KAFE DOSTOYEVSKY                              1473  \n",
       "KANAL                                         1701  \n",
       "OREGON                                        1569  \n",
       "PLANE                                         1606  \n",
       "SKYSCRAPER                                     858  \n",
       "YACHT                                         1107  "
      ]
     },
     "execution_count": 18,
     "metadata": {},
     "output_type": "execute_result"
    }
   ],
   "source": [
    "df3.rename(columns = {'ObjectiveCaptured':'ObjectiveCaptured(Attacker win)', 'ObjectiveProtected':'ObjectiveProtected(Defender win)'}, inplace = True)\n",
    "df3"
   ]
  }
 ],
 "metadata": {
  "kernelspec": {
   "display_name": "Python 3 (ipykernel)",
   "language": "python",
   "name": "python3"
  },
  "language_info": {
   "codemirror_mode": {
    "name": "ipython",
    "version": 3
   },
   "file_extension": ".py",
   "mimetype": "text/x-python",
   "name": "python",
   "nbconvert_exporter": "python",
   "pygments_lexer": "ipython3",
   "version": "3.9.7"
  }
 },
 "nbformat": 4,
 "nbformat_minor": 5
}
